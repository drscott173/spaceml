{
 "cells": [
  {
   "cell_type": "code",
   "execution_count": null,
   "metadata": {},
   "outputs": [],
   "source": [
    "# Let's load up the Yelp review dataset, \n",
    "# an array of JSON structures\n",
    "\n",
    "# Grab the data and progress bar\n",
    "# We only need to do this once.\n",
    "!pip install tqdm\n",
    "!wget https://storage.googleapis.com/aai17/yelp_dataset.tar\n",
    "!tar xfvz yelp_dataset.tar\n",
    "!mv dataset/review.json yelp_reviews.json\n"
   ]
  },
  {
   "cell_type": "code",
   "execution_count": 4,
   "metadata": {},
   "outputs": [
    {
     "data": {
      "text/html": [
       "\n",
       "    <div class=\"bk-root\">\n",
       "        <a href=\"https://bokeh.pydata.org\" target=\"_blank\" class=\"bk-logo bk-logo-small bk-logo-notebook\"></a>\n",
       "        <span id=\"985b9138-21fb-44d9-ae58-4cd7a2fea035\">Loading BokehJS ...</span>\n",
       "    </div>"
      ]
     },
     "metadata": {},
     "output_type": "display_data"
    },
    {
     "data": {
      "application/javascript": [
       "\n",
       "(function(root) {\n",
       "  function now() {\n",
       "    return new Date();\n",
       "  }\n",
       "\n",
       "  var force = true;\n",
       "\n",
       "  if (typeof (root._bokeh_onload_callbacks) === \"undefined\" || force === true) {\n",
       "    root._bokeh_onload_callbacks = [];\n",
       "    root._bokeh_is_loading = undefined;\n",
       "  }\n",
       "\n",
       "  var JS_MIME_TYPE = 'application/javascript';\n",
       "  var HTML_MIME_TYPE = 'text/html';\n",
       "  var EXEC_MIME_TYPE = 'application/vnd.bokehjs_exec.v0+json';\n",
       "  var CLASS_NAME = 'output_bokeh rendered_html';\n",
       "\n",
       "  /**\n",
       "   * Render data to the DOM node\n",
       "   */\n",
       "  function render(props, node) {\n",
       "    var script = document.createElement(\"script\");\n",
       "    node.appendChild(script);\n",
       "  }\n",
       "\n",
       "  /**\n",
       "   * Handle when an output is cleared or removed\n",
       "   */\n",
       "  function handleClearOutput(event, handle) {\n",
       "    var cell = handle.cell;\n",
       "\n",
       "    var id = cell.output_area._bokeh_element_id;\n",
       "    var server_id = cell.output_area._bokeh_server_id;\n",
       "    // Clean up Bokeh references\n",
       "    if (id !== undefined) {\n",
       "      Bokeh.index[id].model.document.clear();\n",
       "      delete Bokeh.index[id];\n",
       "    }\n",
       "\n",
       "    if (server_id !== undefined) {\n",
       "      // Clean up Bokeh references\n",
       "      var cmd = \"from bokeh.io.state import curstate; print(curstate().uuid_to_server['\" + server_id + \"'].get_sessions()[0].document.roots[0]._id)\";\n",
       "      cell.notebook.kernel.execute(cmd, {\n",
       "        iopub: {\n",
       "          output: function(msg) {\n",
       "            var element_id = msg.content.text.trim();\n",
       "            Bokeh.index[element_id].model.document.clear();\n",
       "            delete Bokeh.index[element_id];\n",
       "          }\n",
       "        }\n",
       "      });\n",
       "      // Destroy server and session\n",
       "      var cmd = \"import bokeh.io.notebook as ion; ion.destroy_server('\" + server_id + \"')\";\n",
       "      cell.notebook.kernel.execute(cmd);\n",
       "    }\n",
       "  }\n",
       "\n",
       "  /**\n",
       "   * Handle when a new output is added\n",
       "   */\n",
       "  function handleAddOutput(event, handle) {\n",
       "    var output_area = handle.output_area;\n",
       "    var output = handle.output;\n",
       "\n",
       "    // limit handleAddOutput to display_data with EXEC_MIME_TYPE content only\n",
       "    if ((output.output_type != \"display_data\") || (!output.data.hasOwnProperty(EXEC_MIME_TYPE))) {\n",
       "      return\n",
       "    }\n",
       "\n",
       "    var toinsert = output_area.element.find(\".\" + CLASS_NAME.split(' ')[0]);\n",
       "\n",
       "    if (output.metadata[EXEC_MIME_TYPE][\"id\"] !== undefined) {\n",
       "      toinsert[toinsert.length - 1].firstChild.textContent = output.data[JS_MIME_TYPE];\n",
       "      // store reference to embed id on output_area\n",
       "      output_area._bokeh_element_id = output.metadata[EXEC_MIME_TYPE][\"id\"];\n",
       "    }\n",
       "    if (output.metadata[EXEC_MIME_TYPE][\"server_id\"] !== undefined) {\n",
       "      var bk_div = document.createElement(\"div\");\n",
       "      bk_div.innerHTML = output.data[HTML_MIME_TYPE];\n",
       "      var script_attrs = bk_div.children[0].attributes;\n",
       "      for (var i = 0; i < script_attrs.length; i++) {\n",
       "        toinsert[toinsert.length - 1].firstChild.setAttribute(script_attrs[i].name, script_attrs[i].value);\n",
       "      }\n",
       "      // store reference to server id on output_area\n",
       "      output_area._bokeh_server_id = output.metadata[EXEC_MIME_TYPE][\"server_id\"];\n",
       "    }\n",
       "  }\n",
       "\n",
       "  function register_renderer(events, OutputArea) {\n",
       "\n",
       "    function append_mime(data, metadata, element) {\n",
       "      // create a DOM node to render to\n",
       "      var toinsert = this.create_output_subarea(\n",
       "        metadata,\n",
       "        CLASS_NAME,\n",
       "        EXEC_MIME_TYPE\n",
       "      );\n",
       "      this.keyboard_manager.register_events(toinsert);\n",
       "      // Render to node\n",
       "      var props = {data: data, metadata: metadata[EXEC_MIME_TYPE]};\n",
       "      render(props, toinsert[toinsert.length - 1]);\n",
       "      element.append(toinsert);\n",
       "      return toinsert\n",
       "    }\n",
       "\n",
       "    /* Handle when an output is cleared or removed */\n",
       "    events.on('clear_output.CodeCell', handleClearOutput);\n",
       "    events.on('delete.Cell', handleClearOutput);\n",
       "\n",
       "    /* Handle when a new output is added */\n",
       "    events.on('output_added.OutputArea', handleAddOutput);\n",
       "\n",
       "    /**\n",
       "     * Register the mime type and append_mime function with output_area\n",
       "     */\n",
       "    OutputArea.prototype.register_mime_type(EXEC_MIME_TYPE, append_mime, {\n",
       "      /* Is output safe? */\n",
       "      safe: true,\n",
       "      /* Index of renderer in `output_area.display_order` */\n",
       "      index: 0\n",
       "    });\n",
       "  }\n",
       "\n",
       "  // register the mime type if in Jupyter Notebook environment and previously unregistered\n",
       "  if (root.Jupyter !== undefined) {\n",
       "    var events = require('base/js/events');\n",
       "    var OutputArea = require('notebook/js/outputarea').OutputArea;\n",
       "\n",
       "    if (OutputArea.prototype.mime_types().indexOf(EXEC_MIME_TYPE) == -1) {\n",
       "      register_renderer(events, OutputArea);\n",
       "    }\n",
       "  }\n",
       "\n",
       "  \n",
       "  if (typeof (root._bokeh_timeout) === \"undefined\" || force === true) {\n",
       "    root._bokeh_timeout = Date.now() + 5000;\n",
       "    root._bokeh_failed_load = false;\n",
       "  }\n",
       "\n",
       "  var NB_LOAD_WARNING = {'data': {'text/html':\n",
       "     \"<div style='background-color: #fdd'>\\n\"+\n",
       "     \"<p>\\n\"+\n",
       "     \"BokehJS does not appear to have successfully loaded. If loading BokehJS from CDN, this \\n\"+\n",
       "     \"may be due to a slow or bad network connection. Possible fixes:\\n\"+\n",
       "     \"</p>\\n\"+\n",
       "     \"<ul>\\n\"+\n",
       "     \"<li>re-rerun `output_notebook()` to attempt to load from CDN again, or</li>\\n\"+\n",
       "     \"<li>use INLINE resources instead, as so:</li>\\n\"+\n",
       "     \"</ul>\\n\"+\n",
       "     \"<code>\\n\"+\n",
       "     \"from bokeh.resources import INLINE\\n\"+\n",
       "     \"output_notebook(resources=INLINE)\\n\"+\n",
       "     \"</code>\\n\"+\n",
       "     \"</div>\"}};\n",
       "\n",
       "  function display_loaded() {\n",
       "    var el = document.getElementById(\"985b9138-21fb-44d9-ae58-4cd7a2fea035\");\n",
       "    if (el != null) {\n",
       "      el.textContent = \"BokehJS is loading...\";\n",
       "    }\n",
       "    if (root.Bokeh !== undefined) {\n",
       "      if (el != null) {\n",
       "        el.textContent = \"BokehJS \" + root.Bokeh.version + \" successfully loaded.\";\n",
       "      }\n",
       "    } else if (Date.now() < root._bokeh_timeout) {\n",
       "      setTimeout(display_loaded, 100)\n",
       "    }\n",
       "  }\n",
       "\n",
       "\n",
       "  function run_callbacks() {\n",
       "    try {\n",
       "      root._bokeh_onload_callbacks.forEach(function(callback) { callback() });\n",
       "    }\n",
       "    finally {\n",
       "      delete root._bokeh_onload_callbacks\n",
       "    }\n",
       "    console.info(\"Bokeh: all callbacks have finished\");\n",
       "  }\n",
       "\n",
       "  function load_libs(js_urls, callback) {\n",
       "    root._bokeh_onload_callbacks.push(callback);\n",
       "    if (root._bokeh_is_loading > 0) {\n",
       "      console.log(\"Bokeh: BokehJS is being loaded, scheduling callback at\", now());\n",
       "      return null;\n",
       "    }\n",
       "    if (js_urls == null || js_urls.length === 0) {\n",
       "      run_callbacks();\n",
       "      return null;\n",
       "    }\n",
       "    console.log(\"Bokeh: BokehJS not loaded, scheduling load and callback at\", now());\n",
       "    root._bokeh_is_loading = js_urls.length;\n",
       "    for (var i = 0; i < js_urls.length; i++) {\n",
       "      var url = js_urls[i];\n",
       "      var s = document.createElement('script');\n",
       "      s.src = url;\n",
       "      s.async = false;\n",
       "      s.onreadystatechange = s.onload = function() {\n",
       "        root._bokeh_is_loading--;\n",
       "        if (root._bokeh_is_loading === 0) {\n",
       "          console.log(\"Bokeh: all BokehJS libraries loaded\");\n",
       "          run_callbacks()\n",
       "        }\n",
       "      };\n",
       "      s.onerror = function() {\n",
       "        console.warn(\"failed to load library \" + url);\n",
       "      };\n",
       "      console.log(\"Bokeh: injecting script tag for BokehJS library: \", url);\n",
       "      document.getElementsByTagName(\"head\")[0].appendChild(s);\n",
       "    }\n",
       "  };var element = document.getElementById(\"985b9138-21fb-44d9-ae58-4cd7a2fea035\");\n",
       "  if (element == null) {\n",
       "    console.log(\"Bokeh: ERROR: autoload.js configured with elementid '985b9138-21fb-44d9-ae58-4cd7a2fea035' but no matching script tag was found. \")\n",
       "    return false;\n",
       "  }\n",
       "\n",
       "  var js_urls = [\"https://cdn.pydata.org/bokeh/release/bokeh-0.12.16.min.js\", \"https://cdn.pydata.org/bokeh/release/bokeh-widgets-0.12.16.min.js\", \"https://cdn.pydata.org/bokeh/release/bokeh-tables-0.12.16.min.js\", \"https://cdn.pydata.org/bokeh/release/bokeh-gl-0.12.16.min.js\"];\n",
       "\n",
       "  var inline_js = [\n",
       "    function(Bokeh) {\n",
       "      Bokeh.set_log_level(\"info\");\n",
       "    },\n",
       "    \n",
       "    function(Bokeh) {\n",
       "      \n",
       "    },\n",
       "    function(Bokeh) {\n",
       "      console.log(\"Bokeh: injecting CSS: https://cdn.pydata.org/bokeh/release/bokeh-0.12.16.min.css\");\n",
       "      Bokeh.embed.inject_css(\"https://cdn.pydata.org/bokeh/release/bokeh-0.12.16.min.css\");\n",
       "      console.log(\"Bokeh: injecting CSS: https://cdn.pydata.org/bokeh/release/bokeh-widgets-0.12.16.min.css\");\n",
       "      Bokeh.embed.inject_css(\"https://cdn.pydata.org/bokeh/release/bokeh-widgets-0.12.16.min.css\");\n",
       "      console.log(\"Bokeh: injecting CSS: https://cdn.pydata.org/bokeh/release/bokeh-tables-0.12.16.min.css\");\n",
       "      Bokeh.embed.inject_css(\"https://cdn.pydata.org/bokeh/release/bokeh-tables-0.12.16.min.css\");\n",
       "    }\n",
       "  ];\n",
       "\n",
       "  function run_inline_js() {\n",
       "    \n",
       "    if ((root.Bokeh !== undefined) || (force === true)) {\n",
       "      for (var i = 0; i < inline_js.length; i++) {\n",
       "        inline_js[i].call(root, root.Bokeh);\n",
       "      }if (force === true) {\n",
       "        display_loaded();\n",
       "      }} else if (Date.now() < root._bokeh_timeout) {\n",
       "      setTimeout(run_inline_js, 100);\n",
       "    } else if (!root._bokeh_failed_load) {\n",
       "      console.log(\"Bokeh: BokehJS failed to load within specified timeout.\");\n",
       "      root._bokeh_failed_load = true;\n",
       "    } else if (force !== true) {\n",
       "      var cell = $(document.getElementById(\"985b9138-21fb-44d9-ae58-4cd7a2fea035\")).parents('.cell').data().cell;\n",
       "      cell.output_area.append_execute_result(NB_LOAD_WARNING)\n",
       "    }\n",
       "\n",
       "  }\n",
       "\n",
       "  if (root._bokeh_is_loading === 0) {\n",
       "    console.log(\"Bokeh: BokehJS loaded, going straight to plotting\");\n",
       "    run_inline_js();\n",
       "  } else {\n",
       "    load_libs(js_urls, function() {\n",
       "      console.log(\"Bokeh: BokehJS plotting callback run at\", now());\n",
       "      run_inline_js();\n",
       "    });\n",
       "  }\n",
       "}(window));"
      ],
      "application/vnd.bokehjs_load.v0+json": "\n(function(root) {\n  function now() {\n    return new Date();\n  }\n\n  var force = true;\n\n  if (typeof (root._bokeh_onload_callbacks) === \"undefined\" || force === true) {\n    root._bokeh_onload_callbacks = [];\n    root._bokeh_is_loading = undefined;\n  }\n\n  \n\n  \n  if (typeof (root._bokeh_timeout) === \"undefined\" || force === true) {\n    root._bokeh_timeout = Date.now() + 5000;\n    root._bokeh_failed_load = false;\n  }\n\n  var NB_LOAD_WARNING = {'data': {'text/html':\n     \"<div style='background-color: #fdd'>\\n\"+\n     \"<p>\\n\"+\n     \"BokehJS does not appear to have successfully loaded. If loading BokehJS from CDN, this \\n\"+\n     \"may be due to a slow or bad network connection. Possible fixes:\\n\"+\n     \"</p>\\n\"+\n     \"<ul>\\n\"+\n     \"<li>re-rerun `output_notebook()` to attempt to load from CDN again, or</li>\\n\"+\n     \"<li>use INLINE resources instead, as so:</li>\\n\"+\n     \"</ul>\\n\"+\n     \"<code>\\n\"+\n     \"from bokeh.resources import INLINE\\n\"+\n     \"output_notebook(resources=INLINE)\\n\"+\n     \"</code>\\n\"+\n     \"</div>\"}};\n\n  function display_loaded() {\n    var el = document.getElementById(\"985b9138-21fb-44d9-ae58-4cd7a2fea035\");\n    if (el != null) {\n      el.textContent = \"BokehJS is loading...\";\n    }\n    if (root.Bokeh !== undefined) {\n      if (el != null) {\n        el.textContent = \"BokehJS \" + root.Bokeh.version + \" successfully loaded.\";\n      }\n    } else if (Date.now() < root._bokeh_timeout) {\n      setTimeout(display_loaded, 100)\n    }\n  }\n\n\n  function run_callbacks() {\n    try {\n      root._bokeh_onload_callbacks.forEach(function(callback) { callback() });\n    }\n    finally {\n      delete root._bokeh_onload_callbacks\n    }\n    console.info(\"Bokeh: all callbacks have finished\");\n  }\n\n  function load_libs(js_urls, callback) {\n    root._bokeh_onload_callbacks.push(callback);\n    if (root._bokeh_is_loading > 0) {\n      console.log(\"Bokeh: BokehJS is being loaded, scheduling callback at\", now());\n      return null;\n    }\n    if (js_urls == null || js_urls.length === 0) {\n      run_callbacks();\n      return null;\n    }\n    console.log(\"Bokeh: BokehJS not loaded, scheduling load and callback at\", now());\n    root._bokeh_is_loading = js_urls.length;\n    for (var i = 0; i < js_urls.length; i++) {\n      var url = js_urls[i];\n      var s = document.createElement('script');\n      s.src = url;\n      s.async = false;\n      s.onreadystatechange = s.onload = function() {\n        root._bokeh_is_loading--;\n        if (root._bokeh_is_loading === 0) {\n          console.log(\"Bokeh: all BokehJS libraries loaded\");\n          run_callbacks()\n        }\n      };\n      s.onerror = function() {\n        console.warn(\"failed to load library \" + url);\n      };\n      console.log(\"Bokeh: injecting script tag for BokehJS library: \", url);\n      document.getElementsByTagName(\"head\")[0].appendChild(s);\n    }\n  };var element = document.getElementById(\"985b9138-21fb-44d9-ae58-4cd7a2fea035\");\n  if (element == null) {\n    console.log(\"Bokeh: ERROR: autoload.js configured with elementid '985b9138-21fb-44d9-ae58-4cd7a2fea035' but no matching script tag was found. \")\n    return false;\n  }\n\n  var js_urls = [\"https://cdn.pydata.org/bokeh/release/bokeh-0.12.16.min.js\", \"https://cdn.pydata.org/bokeh/release/bokeh-widgets-0.12.16.min.js\", \"https://cdn.pydata.org/bokeh/release/bokeh-tables-0.12.16.min.js\", \"https://cdn.pydata.org/bokeh/release/bokeh-gl-0.12.16.min.js\"];\n\n  var inline_js = [\n    function(Bokeh) {\n      Bokeh.set_log_level(\"info\");\n    },\n    \n    function(Bokeh) {\n      \n    },\n    function(Bokeh) {\n      console.log(\"Bokeh: injecting CSS: https://cdn.pydata.org/bokeh/release/bokeh-0.12.16.min.css\");\n      Bokeh.embed.inject_css(\"https://cdn.pydata.org/bokeh/release/bokeh-0.12.16.min.css\");\n      console.log(\"Bokeh: injecting CSS: https://cdn.pydata.org/bokeh/release/bokeh-widgets-0.12.16.min.css\");\n      Bokeh.embed.inject_css(\"https://cdn.pydata.org/bokeh/release/bokeh-widgets-0.12.16.min.css\");\n      console.log(\"Bokeh: injecting CSS: https://cdn.pydata.org/bokeh/release/bokeh-tables-0.12.16.min.css\");\n      Bokeh.embed.inject_css(\"https://cdn.pydata.org/bokeh/release/bokeh-tables-0.12.16.min.css\");\n    }\n  ];\n\n  function run_inline_js() {\n    \n    if ((root.Bokeh !== undefined) || (force === true)) {\n      for (var i = 0; i < inline_js.length; i++) {\n        inline_js[i].call(root, root.Bokeh);\n      }if (force === true) {\n        display_loaded();\n      }} else if (Date.now() < root._bokeh_timeout) {\n      setTimeout(run_inline_js, 100);\n    } else if (!root._bokeh_failed_load) {\n      console.log(\"Bokeh: BokehJS failed to load within specified timeout.\");\n      root._bokeh_failed_load = true;\n    } else if (force !== true) {\n      var cell = $(document.getElementById(\"985b9138-21fb-44d9-ae58-4cd7a2fea035\")).parents('.cell').data().cell;\n      cell.output_area.append_execute_result(NB_LOAD_WARNING)\n    }\n\n  }\n\n  if (root._bokeh_is_loading === 0) {\n    console.log(\"Bokeh: BokehJS loaded, going straight to plotting\");\n    run_inline_js();\n  } else {\n    load_libs(js_urls, function() {\n      console.log(\"Bokeh: BokehJS plotting callback run at\", now());\n      run_inline_js();\n    });\n  }\n}(window));"
     },
     "metadata": {},
     "output_type": "display_data"
    }
   ],
   "source": [
    "from bokeh.models import ColumnDataSource, LabelSet\n",
    "from bokeh.plotting import figure, show, output_file\n",
    "from bokeh.io import output_notebook\n",
    "output_notebook()"
   ]
  },
  {
   "cell_type": "code",
   "execution_count": 5,
   "metadata": {},
   "outputs": [
    {
     "name": "stdout",
     "output_type": "stream",
     "text": [
      "Loading...\n"
     ]
    },
    {
     "name": "stderr",
     "output_type": "stream",
     "text": [
      "100%|██████████| 5261669/5261669 [00:43<00:00, 119910.68it/s]\n"
     ]
    },
    {
     "name": "stdout",
     "output_type": "stream",
     "text": [
      "Loaded  5261669 reviews in  0:01:21.453330\n",
      "Love the staff, love the meat, love the place. Prepare for a long line around lunch or dinner hours. \n",
      "\n",
      "They ask you how you want you meat, lean or something maybe, I can't remember. Just say you don't want it too fatty. \n",
      "\n",
      "Get a half sour pickle and a hot pepper. Hand cut french fries too. \n",
      "\n",
      "Rating:  5 stars\n"
     ]
    }
   ],
   "source": [
    "from tqdm import tqdm\n",
    "from collections import Counter\n",
    "from datetime import datetime\n",
    "import json\n",
    "\n",
    "t1 = datetime.now()\n",
    "print(\"Loading...\")\n",
    "with open(\"yelp_reviews.json\", \"r\", encoding=\"utf-8\") as f:\n",
    "    reviews = f.read().strip().split(\"\\n\")\n",
    "reviews = [json.loads(review) for review in tqdm(reviews)]\n",
    "print(\"Loaded \", len(reviews), \"reviews in \", datetime.now() - t1)\n",
    "\n",
    "print(reviews[0]['text'], \"\\n\\nRating: \", reviews[0]['stars'],\"stars\")"
   ]
  },
  {
   "cell_type": "code",
   "execution_count": 6,
   "metadata": {},
   "outputs": [
    {
     "name": "stderr",
     "output_type": "stream",
     "text": [
      "  8%|▊         | 443479/5261669 [00:05<01:01, 78663.84it/s]"
     ]
    },
    {
     "name": "stdout",
     "output_type": "stream",
     "text": [
      "Selected  100000 positive and 100000 negative reviews\n"
     ]
    },
    {
     "name": "stderr",
     "output_type": "stream",
     "text": [
      "\n"
     ]
    }
   ],
   "source": [
    "# choose a random subset of reviews\n",
    "count = 100000\n",
    "import numpy as np\n",
    "import re\n",
    "\n",
    "np.random.seed(1)\n",
    "positive = []\n",
    "negative = []\n",
    "all_reviews = np.array(reviews)\n",
    "np.random.shuffle(all_reviews)\n",
    "notalpha = re.compile('[^a-zA-Z ]')\n",
    "\n",
    "def tokenize(text):\n",
    "    return notalpha.sub('',text).lower().strip()\n",
    "    \n",
    "for review in tqdm(all_reviews):\n",
    "    neg = review['stars'] < 3\n",
    "    pos = review['stars'] > 3\n",
    "    text = tokenize(review['text'])\n",
    "    if neg and len(negative) < count:\n",
    "        negative.append(text)\n",
    "    elif pos and len(positive) < count:\n",
    "        positive.append(text)\n",
    "    if len(negative) >= count and len(positive) >= count:\n",
    "        break\n",
    "\n",
    "print(\"Selected \",len(positive),\"positive and\",len(negative),\"negative reviews\")\n"
   ]
  },
  {
   "cell_type": "code",
   "execution_count": 7,
   "metadata": {},
   "outputs": [
    {
     "name": "stdout",
     "output_type": "stream",
     "text": [
      "Please stand by...\n",
      "Memory cleared\n"
     ]
    }
   ],
   "source": [
    "# clean up memory\n",
    "print(\"Please stand by...\")\n",
    "reviews = []\n",
    "all_reviews = []\n",
    "print(\"Memory cleared\")"
   ]
  },
  {
   "cell_type": "code",
   "execution_count": 29,
   "metadata": {},
   "outputs": [
    {
     "name": "stderr",
     "output_type": "stream",
     "text": [
      "  1%|          | 1026/100000 [00:00<00:09, 10249.06it/s]"
     ]
    },
    {
     "name": "stdout",
     "output_type": "stream",
     "text": [
      "Gathering positive words\n"
     ]
    },
    {
     "name": "stderr",
     "output_type": "stream",
     "text": [
      "100%|██████████| 100000/100000 [00:09<00:00, 10128.09it/s]\n",
      "  1%|          | 711/100000 [00:00<00:13, 7099.11it/s]"
     ]
    },
    {
     "name": "stdout",
     "output_type": "stream",
     "text": [
      "Gathering negative words\n"
     ]
    },
    {
     "name": "stderr",
     "output_type": "stream",
     "text": [
      "100%|██████████| 100000/100000 [00:14<00:00, 6890.41it/s]\n"
     ]
    },
    {
     "name": "stdout",
     "output_type": "stream",
     "text": [
      "Creating influence ratios of frequent words\n",
      "Creating training vocabulary\n",
      "Found 9541 words\n"
     ]
    }
   ],
   "source": [
    "from collections import Counter\n",
    "\n",
    "positive_counts = Counter()\n",
    "negative_counts = Counter()\n",
    "total_counts = Counter()\n",
    "pos_neg_ratios = Counter()\n",
    "polarity_cutoff = 0.2\n",
    "min_count = 50\n",
    "\n",
    "print(\"Gathering positive words\")\n",
    "for review in tqdm(positive):\n",
    "    for word in review.split(\" \"):\n",
    "        positive_counts[word] += 1\n",
    "        total_counts[word] += 1\n",
    "\n",
    "print(\"Gathering negative words\")\n",
    "for review in tqdm(negative):\n",
    "    for word in review.split(\" \"):\n",
    "        negative_counts[word] += 1\n",
    "        total_counts[word] += 1\n",
    "        \n",
    "print(\"Creating influence ratios of frequent words\")\n",
    "for term,cnt in list(total_counts.most_common()):\n",
    "    if(cnt >= min_count):\n",
    "        pos_neg_ratio = positive_counts[term] / float(negative_counts[term]+1)\n",
    "        pos_neg_ratios[term] = pos_neg_ratio\n",
    "\n",
    "for word,ratio in pos_neg_ratios.most_common():\n",
    "    if(ratio > 1):\n",
    "        pos_neg_ratios[word] = np.log(ratio)\n",
    "    else:\n",
    "        pos_neg_ratios[word] = -np.log((1 / (ratio + 0.01)))\n",
    "\n",
    "print(\"Creating training vocabulary\")\n",
    "review_vocab = set()\n",
    "for word,p in pos_neg_ratios.most_common():\n",
    "    if (p >= polarity_cutoff or p <= -polarity_cutoff):\n",
    "        review_vocab.add(word)\n",
    "        \n",
    "print(\"Found\",len(review_vocab),\"words\")\n"
   ]
  },
  {
   "cell_type": "code",
   "execution_count": 32,
   "metadata": {},
   "outputs": [
    {
     "data": {
      "text/html": [
       "\n",
       "<div class=\"bk-root\">\n",
       "    <div class=\"bk-plotdiv\" id=\"9054f73d-565d-442f-8f86-410271d06df0\"></div>\n",
       "</div>"
      ]
     },
     "metadata": {},
     "output_type": "display_data"
    },
    {
     "data": {
      "application/javascript": [
       "(function(root) {\n",
       "  function embed_document(root) {\n",
       "    \n",
       "  var docs_json = {\"99d063eb-dc59-4129-b7c5-95d8475038b1\":{\"roots\":{\"references\":[{\"attributes\":{},\"id\":\"5532f2e2-7bf3-450c-bc26-5765b42c9b8e\",\"type\":\"BasicTickFormatter\"},{\"attributes\":{\"axis_label\":\"relative count\",\"formatter\":{\"id\":\"0fb437d7-d7c0-44da-947d-e86534952411\",\"type\":\"BasicTickFormatter\"},\"plot\":{\"id\":\"fca2ddf0-122e-4ffb-a2ac-c0a8a0846a9d\",\"subtype\":\"Figure\",\"type\":\"Plot\"},\"ticker\":{\"id\":\"69b85402-4ab8-4182-b8f2-19dc5d04d313\",\"type\":\"BasicTicker\"}},\"id\":\"55bf10c5-5eff-4f54-a5e6-48c3562ebc4b\",\"type\":\"LinearAxis\"},{\"attributes\":{},\"id\":\"2d3dfe95-b709-4672-838a-07de654265da\",\"type\":\"BasicTicker\"},{\"attributes\":{\"source\":{\"id\":\"1f3ee879-75bf-4938-9de1-21b3b8998670\",\"type\":\"ColumnDataSource\"}},\"id\":\"c8b33538-b10c-4dfe-bcc1-67e714d11a64\",\"type\":\"CDSView\"},{\"attributes\":{},\"id\":\"459f268b-476d-4941-8322-a15fb79e3621\",\"type\":\"Selection\"},{\"attributes\":{\"bottom\":{\"value\":0},\"fill_alpha\":{\"value\":0.1},\"fill_color\":{\"value\":\"#1f77b4\"},\"left\":{\"field\":\"left\"},\"line_alpha\":{\"value\":0.1},\"line_color\":{\"value\":\"#1f77b4\"},\"right\":{\"field\":\"right\"},\"top\":{\"field\":\"top\"}},\"id\":\"f42206b3-41e1-49cf-924d-e8e44609e500\",\"type\":\"Quad\"},{\"attributes\":{\"callback\":null,\"data\":{\"left\":{\"__ndarray__\":\"AAAAAAAA8D8pXI/ClabWQClcj8J1puZAH4XrUdD88EApXI/CZab2QDMzMzP7T/xAH4XrUcj8AEGkcD0Kk9EDQSlcj8JdpgZBrkfheih7CUEzMzMz808MQbgeheu9JA9BH4XrUcT8EEHhehSuKWcSQaRwPQqP0RNBZmZmZvQ7FUEpXI/CWaYWQexRuB6/EBhBrkfheiR7GUFxPQrXieUaQTMzMzPvTxxB9ihcj1S6HUG4HoXruSQfQT0K16OPRyBBH4XrUcL8IEEAAAAA9bEhQeF6FK4nZyJBw/UoXFocI0GkcD0KjdEjQYXrUbi/hiRBZmZmZvI7JUFI4XoUJfElQSlcj8JXpiZBCtejcIpbJ0HsUbgevRAoQc3MzMzvxShBrkfheiJ7KUGPwvUoVTAqQXE9CteH5SpBUrgehbqaK0EzMzMz7U8sQRWuR+EfBS1B9ihcj1K6LUHXo3A9hW8uQbgeheu3JC9BmpmZmerZL0E9CtejjkcwQa5H4fonojBBH4XrUcH8MEGPwvWoWlcxQQ==\",\"dtype\":\"float64\",\"shape\":[50]},\"right\":{\"__ndarray__\":\"KVyPwpWm1kApXI/CdabmQB+F61HQ/PBAKVyPwmWm9kAzMzMz+0/8QB+F61HI/ABBpHA9CpPRA0EpXI/CXaYGQa5H4XooewlBMzMzM/NPDEG4HoXrvSQPQR+F61HE/BBB4XoUrilnEkGkcD0Kj9ETQWZmZmb0OxVBKVyPwlmmFkHsUbgevxAYQa5H4XokexlBcT0K14nlGkEzMzMz708cQfYoXI9Uuh1BuB6F67kkH0E9Ctejj0cgQR+F61HC/CBBAAAAAPWxIUHhehSuJ2ciQcP1KFxaHCNBpHA9Co3RI0GF61G4v4YkQWZmZmbyOyVBSOF6FCXxJUEpXI/CV6YmQQrXo3CKWydB7FG4Hr0QKEHNzMzM78UoQa5H4XoieylBj8L1KFUwKkFxPQrXh+UqQVK4HoW6mitBMzMzM+1PLEEVrkfhHwUtQfYoXI9Sui1B16NwPYVvLkG4HoXrtyQvQZqZmZnq2S9BPQrXo45HMEGuR+H6J6IwQR+F61HB/DBBj8L1qFpXMUEAAAAA9LExQQ==\",\"dtype\":\"float64\",\"shape\":[50]},\"top\":{\"__ndarray__\":\"ESnQat+XBj9Io/KZJuBGPrIzm8RT+C4+w/t+LNBWKT7Xp1TIiuQQPtSnVMiK5AA+yt9wYA6G9j3K33BgDoYGPsrfcGAOhgY+yt9wYA6G5j3K33BgDobmPcLfcGAOhvY90d9wYA6G9j0AAAAAAAAAANHfcGAOhuY9AAAAAAAAAAAAAAAAAAAAAAAAAAAAAAAAwt9wYA6G5j0AAAAAAAAAAAAAAAAAAAAAAAAAAAAAAAAAAAAAAAAAAAAAAAAAAAAAAAAAAAAAAADR33BgDobmPQAAAAAAAAAA0d9wYA6G9j0AAAAAAAAAANHfcGAOhuY9AAAAAAAAAAAAAAAAAAAAAAAAAAAAAAAAAAAAAAAAAADR33BgDobmPQAAAAAAAAAAAAAAAAAAAAAAAAAAAAAAAAAAAAAAAAAAAAAAAAAAAAAAAAAAAAAAAAAAAAAAAAAAAAAAAAAAAAAAAAAAAAAAAAAAAAAAAAAAAAAAAAAAAAAAAAAAAAAAAAAAAAAAAAAAAAAAAAAAAACy33BgDobmPQ==\",\"dtype\":\"float64\",\"shape\":[50]}},\"selected\":{\"id\":\"4cc7910a-d6bc-4aab-9940-52aa7c268dc8\",\"type\":\"Selection\"},\"selection_policy\":{\"id\":\"75331e1c-0420-4337-8774-5f52ff97a9a0\",\"type\":\"UnionRenderers\"}},\"id\":\"ca743b9b-7762-4f33-b533-c19e2feb09fa\",\"type\":\"ColumnDataSource\"},{\"attributes\":{\"callback\":null},\"id\":\"9cd9d108-27d7-4605-aa46-0db6605300bd\",\"type\":\"DataRange1d\"},{\"attributes\":{\"bottom\":{\"value\":0},\"fill_alpha\":{\"value\":0.1},\"fill_color\":{\"value\":\"#1f77b4\"},\"left\":{\"field\":\"left\"},\"line_alpha\":{\"value\":0.1},\"line_color\":{\"value\":\"#1f77b4\"},\"right\":{\"field\":\"right\"},\"top\":{\"field\":\"top\"}},\"id\":\"02da8774-3efd-42e6-a317-0f762df9bc6d\",\"type\":\"Quad\"},{\"attributes\":{\"plot\":null,\"text\":\"Min Count Word Distribution\"},\"id\":\"57136215-3c64-43b5-abb9-9e8479d62850\",\"type\":\"Title\"},{\"attributes\":{\"plot\":{\"id\":\"265e75b9-d1ce-4851-b30b-c76c5629ed06\",\"subtype\":\"Figure\",\"type\":\"Plot\"},\"ticker\":{\"id\":\"2d3dfe95-b709-4672-838a-07de654265da\",\"type\":\"BasicTicker\"}},\"id\":\"45e7b622-0b77-48d0-9d89-fcccc6deafc9\",\"type\":\"Grid\"},{\"attributes\":{},\"id\":\"175c99fb-7ac1-4a7b-985c-c1603f6a398e\",\"type\":\"LinearScale\"},{\"attributes\":{\"callback\":null},\"id\":\"699336b2-a4de-4cf4-95d8-41c290067b43\",\"type\":\"DataRange1d\"},{\"attributes\":{},\"id\":\"24faeeed-38ee-4083-93d1-310cd4b41fa0\",\"type\":\"BasicTicker\"},{\"attributes\":{},\"id\":\"ab25ddfc-13ee-43c0-a04a-ef456cc25b2b\",\"type\":\"BasicTickFormatter\"},{\"attributes\":{},\"id\":\"6e2d6bf4-bfc6-4a07-aa08-0ccb24baf3ff\",\"type\":\"SaveTool\"},{\"attributes\":{},\"id\":\"06ac8a75-6fcb-42ad-8538-ab3e209eaf94\",\"type\":\"LinearScale\"},{\"attributes\":{\"bottom\":{\"value\":0},\"fill_color\":{\"value\":\"#036564\"},\"left\":{\"field\":\"left\"},\"line_color\":{\"value\":\"#033649\"},\"right\":{\"field\":\"right\"},\"top\":{\"field\":\"top\"}},\"id\":\"a6485244-a427-444d-8d4b-1c344364de04\",\"type\":\"Quad\"},{\"attributes\":{},\"id\":\"c9a648ef-e0c0-40f9-8f88-1321f0ff7207\",\"type\":\"BasicTickFormatter\"},{\"attributes\":{\"active_drag\":\"auto\",\"active_inspect\":\"auto\",\"active_scroll\":\"auto\",\"active_tap\":\"auto\",\"tools\":[{\"id\":\"3ba52dbc-feb6-40e9-8341-deb7868d9c1f\",\"type\":\"SaveTool\"}]},\"id\":\"131191d8-48df-4614-a616-4eea8764d83d\",\"type\":\"Toolbar\"},{\"attributes\":{},\"id\":\"7922cee2-6da6-4b54-a01a-8823e3430a2d\",\"type\":\"LinearScale\"},{\"attributes\":{},\"id\":\"f6522dd4-d03e-42a2-b055-1986becf7958\",\"type\":\"Selection\"},{\"attributes\":{},\"id\":\"c46dfcbc-8419-4732-8af6-f47e302eb23b\",\"type\":\"BasicTicker\"},{\"attributes\":{\"active_drag\":\"auto\",\"active_inspect\":\"auto\",\"active_scroll\":\"auto\",\"active_tap\":\"auto\",\"tools\":[{\"id\":\"11ee6325-252a-4ce0-9f4a-fef775ae9eb9\",\"type\":\"SaveTool\"}]},\"id\":\"fcf39e82-5dd4-44c8-930a-191cceb42664\",\"type\":\"Toolbar\"},{\"attributes\":{\"active_drag\":\"auto\",\"active_inspect\":\"auto\",\"active_scroll\":\"auto\",\"active_tap\":\"auto\",\"tools\":[{\"id\":\"da892be2-e2fc-4b97-89f4-64d90d2a39f3\",\"type\":\"SaveTool\"}]},\"id\":\"6fed8b6a-8af7-466a-a4fb-9c04c5ae1aef\",\"type\":\"Toolbar\"},{\"attributes\":{\"axis_label\":\"word frequency (above cutoff)\",\"formatter\":{\"id\":\"15a42ea8-28a9-4b51-935e-3b52e45c0e76\",\"type\":\"BasicTickFormatter\"},\"plot\":{\"id\":\"265e75b9-d1ce-4851-b30b-c76c5629ed06\",\"subtype\":\"Figure\",\"type\":\"Plot\"},\"ticker\":{\"id\":\"2d3dfe95-b709-4672-838a-07de654265da\",\"type\":\"BasicTicker\"}},\"id\":\"78e47de8-1419-4445-8718-4501206f52df\",\"type\":\"LinearAxis\"},{\"attributes\":{},\"id\":\"0fb437d7-d7c0-44da-947d-e86534952411\",\"type\":\"BasicTickFormatter\"},{\"attributes\":{\"axis_label\":\"pos/neg ratio\",\"formatter\":{\"id\":\"3061d543-ac34-4ea1-902f-3990e9759752\",\"type\":\"BasicTickFormatter\"},\"plot\":{\"id\":\"bb25cd37-89d4-47ef-b46a-f91d6efc3493\",\"subtype\":\"Figure\",\"type\":\"Plot\"},\"ticker\":{\"id\":\"232e9c44-748e-4a1e-b3de-c084f7f3fa04\",\"type\":\"BasicTicker\"}},\"id\":\"c1691328-9172-4264-bcd4-e763d755d84c\",\"type\":\"LinearAxis\"},{\"attributes\":{\"plot\":{\"id\":\"7f50baca-6699-4873-ba26-615666c9ace0\",\"subtype\":\"Figure\",\"type\":\"Plot\"},\"ticker\":{\"id\":\"884519ab-4f07-4ba1-9825-b972539a302e\",\"type\":\"BasicTicker\"}},\"id\":\"1780dfc8-08b7-46ea-87b4-b50c26234aae\",\"type\":\"Grid\"},{\"attributes\":{\"plot\":null,\"text\":\"Pos/Neg Distribution\"},\"id\":\"c38f777f-d7d0-4d79-8fb7-5c2846b3d36b\",\"type\":\"Title\"},{\"attributes\":{\"plot\":{\"id\":\"bb25cd37-89d4-47ef-b46a-f91d6efc3493\",\"subtype\":\"Figure\",\"type\":\"Plot\"},\"ticker\":{\"id\":\"232e9c44-748e-4a1e-b3de-c084f7f3fa04\",\"type\":\"BasicTicker\"}},\"id\":\"603e18ca-3a1b-4355-a2cc-3266d5657b18\",\"type\":\"Grid\"},{\"attributes\":{\"source\":{\"id\":\"b90ffb62-93ce-407b-8859-d365fefb1533\",\"type\":\"ColumnDataSource\"}},\"id\":\"ed880146-de58-44b3-847c-25edb6343ffe\",\"type\":\"CDSView\"},{\"attributes\":{\"dimension\":1,\"plot\":{\"id\":\"bb25cd37-89d4-47ef-b46a-f91d6efc3493\",\"subtype\":\"Figure\",\"type\":\"Plot\"},\"ticker\":{\"id\":\"c46dfcbc-8419-4732-8af6-f47e302eb23b\",\"type\":\"BasicTicker\"}},\"id\":\"a39743fe-99a6-417c-a76b-ab95c90cb4dd\",\"type\":\"Grid\"},{\"attributes\":{\"plot\":{\"id\":\"fca2ddf0-122e-4ffb-a2ac-c0a8a0846a9d\",\"subtype\":\"Figure\",\"type\":\"Plot\"},\"ticker\":{\"id\":\"9cb723fe-86c8-4fce-92c8-97d16ffb78f2\",\"type\":\"BasicTicker\"}},\"id\":\"27b1dbad-2844-4e82-b8c4-a398da34d61d\",\"type\":\"Grid\"},{\"attributes\":{},\"id\":\"3061d543-ac34-4ea1-902f-3990e9759752\",\"type\":\"BasicTickFormatter\"},{\"attributes\":{\"callback\":null},\"id\":\"3b964a64-6abf-4970-86b0-26bb984c0ee9\",\"type\":\"DataRange1d\"},{\"attributes\":{\"callback\":null,\"data\":{\"left\":{\"__ndarray__\":\"AAAAAACASUApXI/C1bLWQClcj8J1rOZAH4XrUcD/8EApXI/CRan2QDMzMzPLUvxAH4XrUSj+AEGkcD0K69IDQSlcj8KtpwZBrkfhenB8CUEzMzMzM1EMQbgehev1JQ9BH4XrUVz9EEHhehSuvWcSQaRwPQof0hNBZmZmZoA8FUEpXI/C4aYWQexRuB5DERhBrkfheqR7GUFxPQrXBeYaQTMzMzNnUBxB9ihcj8i6HUG4HoXrKSUfQT0K16PFRyBBH4XrUfb8IEEAAAAAJ7IhQeF6FK5XZyJBw/UoXIgcI0GkcD0KudEjQYXrUbjphiRBZmZmZho8JUFI4XoUS/ElQSlcj8J7piZBCtejcKxbJ0HsUbge3RAoQc3MzMwNxihBrkfhej57KUGPwvUobzAqQXE9Ctef5SpBUrgehdCaK0EzMzMzAVAsQRWuR+ExBS1B9ihcj2K6LUHXo3A9k28uQbgehevDJC9BmpmZmfTZL0E9CtejkkcwQa5H4foqojBBH4XrUcP8MEGPwvWoW1cxQQ==\",\"dtype\":\"float64\",\"shape\":[50]},\"right\":{\"__ndarray__\":\"KVyPwtWy1kApXI/CdazmQB+F61HA//BAKVyPwkWp9kAzMzMzy1L8QB+F61Eo/gBBpHA9CuvSA0EpXI/CracGQa5H4XpwfAlBMzMzMzNRDEG4HoXr9SUPQR+F61Fc/RBB4XoUrr1nEkGkcD0KH9ITQWZmZmaAPBVBKVyPwuGmFkHsUbgeQxEYQa5H4XqkexlBcT0K1wXmGkEzMzMzZ1AcQfYoXI/Iuh1BuB6F6yklH0E9CtejxUcgQR+F61H2/CBBAAAAACeyIUHhehSuV2ciQcP1KFyIHCNBpHA9CrnRI0GF61G46YYkQWZmZmYaPCVBSOF6FEvxJUEpXI/Ce6YmQQrXo3CsWydB7FG4Ht0QKEHNzMzMDcYoQa5H4Xo+eylBj8L1KG8wKkFxPQrXn+UqQVK4HoXQmitBMzMzMwFQLEEVrkfhMQUtQfYoXI9iui1B16NwPZNvLkG4HoXrwyQvQZqZmZn02S9BPQrXo5JHMEGuR+H6KqIwQR+F61HD/DBBj8L1qFtXMUEAAAAA9LExQQ==\",\"dtype\":\"float64\",\"shape\":[50]},\"top\":{\"__ndarray__\":\"tLzgUAtXBj9ZgLq9xdGPPjw4cPI34HU+M+i4Ov/lcT5E4EtOVN1XPj/gS05U3Uc+WoC6vcXRPz5agLq9xdFPPlqAur3F0U8+WoC6vcXRLz5agLq9xdEvPk+Aur3F0T8+ZYC6vcXRPz4AAAAAAAAAAGWAur3F0S8+AAAAAAAAAAAAAAAAAAAAAAAAAAAAAAAAT4C6vcXRLz4AAAAAAAAAAAAAAAAAAAAAAAAAAAAAAAAAAAAAAAAAAAAAAAAAAAAAAAAAAAAAAABlgLq9xdEvPgAAAAAAAAAAZYC6vcXRPz4AAAAAAAAAAGWAur3F0S8+AAAAAAAAAAAAAAAAAAAAAAAAAAAAAAAAAAAAAAAAAABlgLq9xdEvPgAAAAAAAAAAAAAAAAAAAAAAAAAAAAAAAAAAAAAAAAAAAAAAAAAAAAAAAAAAAAAAAAAAAAAAAAAAAAAAAAAAAAAAAAAAAAAAAAAAAAAAAAAAAAAAAAAAAAAAAAAAAAAAAAAAAAAAAAAAAAAAAAAAAAA4gLq9xdEvPg==\",\"dtype\":\"float64\",\"shape\":[50]}},\"selected\":{\"id\":\"6f612d4d-e9d6-462a-a8ee-f1f9065acbfe\",\"type\":\"Selection\"},\"selection_policy\":{\"id\":\"27ff5da7-8e56-4af6-bf7f-e3b005a25cfa\",\"type\":\"UnionRenderers\"}},\"id\":\"959bdf84-f86b-4ff1-ac2e-09bf8d243d08\",\"type\":\"ColumnDataSource\"},{\"attributes\":{\"axis_label\":\"relative count\",\"formatter\":{\"id\":\"c9a648ef-e0c0-40f9-8f88-1321f0ff7207\",\"type\":\"BasicTickFormatter\"},\"plot\":{\"id\":\"265e75b9-d1ce-4851-b30b-c76c5629ed06\",\"subtype\":\"Figure\",\"type\":\"Plot\"},\"ticker\":{\"id\":\"24faeeed-38ee-4083-93d1-310cd4b41fa0\",\"type\":\"BasicTicker\"}},\"id\":\"ec2b0071-f739-40aa-9047-28c8e3932e88\",\"type\":\"LinearAxis\"},{\"attributes\":{\"plot\":null,\"text\":\"Raw Word Distribution\"},\"id\":\"50066479-1979-41a2-abde-046a0ab4e90b\",\"type\":\"Title\"},{\"attributes\":{\"plot\":null,\"text\":\"Discriminating Word Distribution\"},\"id\":\"f2affb99-00ec-462f-8844-1a7a8a68d7dc\",\"type\":\"Title\"},{\"attributes\":{},\"id\":\"da892be2-e2fc-4b97-89f4-64d90d2a39f3\",\"type\":\"SaveTool\"},{\"attributes\":{\"background_fill_color\":{\"value\":\"#E8DDCB\"},\"below\":[{\"id\":\"556cf2f7-b7fb-443d-a044-1b2fdabf7008\",\"type\":\"LinearAxis\"}],\"left\":[{\"id\":\"b6f3ab41-ee34-474b-b45f-6edb631d62a1\",\"type\":\"LinearAxis\"}],\"plot_height\":400,\"plot_width\":400,\"renderers\":[{\"id\":\"556cf2f7-b7fb-443d-a044-1b2fdabf7008\",\"type\":\"LinearAxis\"},{\"id\":\"1780dfc8-08b7-46ea-87b4-b50c26234aae\",\"type\":\"Grid\"},{\"id\":\"b6f3ab41-ee34-474b-b45f-6edb631d62a1\",\"type\":\"LinearAxis\"},{\"id\":\"8fb78815-1e4d-40ba-837d-51cd038606bd\",\"type\":\"Grid\"},{\"id\":\"cb9d1e05-e92c-4906-b87a-ab156bd74112\",\"type\":\"GlyphRenderer\"}],\"title\":{\"id\":\"f2affb99-00ec-462f-8844-1a7a8a68d7dc\",\"type\":\"Title\"},\"toolbar\":{\"id\":\"fcf39e82-5dd4-44c8-930a-191cceb42664\",\"type\":\"Toolbar\"},\"toolbar_location\":null,\"x_range\":{\"id\":\"9cd9d108-27d7-4605-aa46-0db6605300bd\",\"type\":\"DataRange1d\"},\"x_scale\":{\"id\":\"06ac8a75-6fcb-42ad-8538-ab3e209eaf94\",\"type\":\"LinearScale\"},\"y_range\":{\"id\":\"3b964a64-6abf-4970-86b0-26bb984c0ee9\",\"type\":\"DataRange1d\"},\"y_scale\":{\"id\":\"d938d35e-6b9f-42a9-a76a-3388ef374f19\",\"type\":\"LinearScale\"}},\"id\":\"7f50baca-6699-4873-ba26-615666c9ace0\",\"subtype\":\"Figure\",\"type\":\"Plot\"},{\"attributes\":{},\"id\":\"9cb723fe-86c8-4fce-92c8-97d16ffb78f2\",\"type\":\"BasicTicker\"},{\"attributes\":{\"background_fill_color\":{\"value\":\"#E8DDCB\"},\"below\":[{\"id\":\"c1691328-9172-4264-bcd4-e763d755d84c\",\"type\":\"LinearAxis\"}],\"left\":[{\"id\":\"d0ed50ae-ca26-4674-a7da-f68d49788f8b\",\"type\":\"LinearAxis\"}],\"plot_height\":400,\"plot_width\":400,\"renderers\":[{\"id\":\"c1691328-9172-4264-bcd4-e763d755d84c\",\"type\":\"LinearAxis\"},{\"id\":\"603e18ca-3a1b-4355-a2cc-3266d5657b18\",\"type\":\"Grid\"},{\"id\":\"d0ed50ae-ca26-4674-a7da-f68d49788f8b\",\"type\":\"LinearAxis\"},{\"id\":\"a39743fe-99a6-417c-a76b-ab95c90cb4dd\",\"type\":\"Grid\"},{\"id\":\"38ae9103-1219-45af-821e-ffd3a5a3418a\",\"type\":\"GlyphRenderer\"}],\"title\":{\"id\":\"c38f777f-d7d0-4d79-8fb7-5c2846b3d36b\",\"type\":\"Title\"},\"toolbar\":{\"id\":\"4695a814-0ba4-44f2-9969-1db4d7e461c4\",\"type\":\"Toolbar\"},\"toolbar_location\":null,\"x_range\":{\"id\":\"291b6b6c-1251-460b-b5ac-6b6c6c64eae5\",\"type\":\"DataRange1d\"},\"x_scale\":{\"id\":\"7922cee2-6da6-4b54-a01a-8823e3430a2d\",\"type\":\"LinearScale\"},\"y_range\":{\"id\":\"bb9c30ec-a213-4ec0-ae9d-f9a27d0f461e\",\"type\":\"DataRange1d\"},\"y_scale\":{\"id\":\"52a284ff-b285-4ae8-9ad5-1092ddd7d2f1\",\"type\":\"LinearScale\"}},\"id\":\"bb25cd37-89d4-47ef-b46a-f91d6efc3493\",\"subtype\":\"Figure\",\"type\":\"Plot\"},{\"attributes\":{\"dimension\":1,\"plot\":{\"id\":\"7f50baca-6699-4873-ba26-615666c9ace0\",\"subtype\":\"Figure\",\"type\":\"Plot\"},\"ticker\":{\"id\":\"720bf615-2b60-41d0-a155-b515fea165f2\",\"type\":\"BasicTicker\"}},\"id\":\"8fb78815-1e4d-40ba-837d-51cd038606bd\",\"type\":\"Grid\"},{\"attributes\":{\"bottom\":{\"value\":0},\"fill_alpha\":{\"value\":0.1},\"fill_color\":{\"value\":\"#1f77b4\"},\"left\":{\"field\":\"left\"},\"line_alpha\":{\"value\":0.1},\"line_color\":{\"value\":\"#1f77b4\"},\"right\":{\"field\":\"right\"},\"top\":{\"field\":\"top\"}},\"id\":\"4da9d7f6-293b-40dd-ad2f-662952b28d14\",\"type\":\"Quad\"},{\"attributes\":{\"dimension\":1,\"plot\":{\"id\":\"fca2ddf0-122e-4ffb-a2ac-c0a8a0846a9d\",\"subtype\":\"Figure\",\"type\":\"Plot\"},\"ticker\":{\"id\":\"69b85402-4ab8-4182-b8f2-19dc5d04d313\",\"type\":\"BasicTicker\"}},\"id\":\"b93f74d7-2cad-4bee-997a-564cac1f840a\",\"type\":\"Grid\"},{\"attributes\":{\"callback\":null},\"id\":\"2144f323-a92f-4eba-88f4-23850694ba5f\",\"type\":\"DataRange1d\"},{\"attributes\":{\"callback\":null},\"id\":\"bb9c30ec-a213-4ec0-ae9d-f9a27d0f461e\",\"type\":\"DataRange1d\"},{\"attributes\":{},\"id\":\"720bf615-2b60-41d0-a155-b515fea165f2\",\"type\":\"BasicTicker\"},{\"attributes\":{},\"id\":\"75331e1c-0420-4337-8774-5f52ff97a9a0\",\"type\":\"UnionRenderers\"},{\"attributes\":{},\"id\":\"15a42ea8-28a9-4b51-935e-3b52e45c0e76\",\"type\":\"BasicTickFormatter\"},{\"attributes\":{\"children\":[{\"id\":\"bb25cd37-89d4-47ef-b46a-f91d6efc3493\",\"subtype\":\"Figure\",\"type\":\"Plot\"},{\"id\":\"7f50baca-6699-4873-ba26-615666c9ace0\",\"subtype\":\"Figure\",\"type\":\"Plot\"}]},\"id\":\"81f37980-bfb7-4efb-800e-c7cc600779a6\",\"type\":\"Row\"},{\"attributes\":{\"source\":{\"id\":\"959bdf84-f86b-4ff1-ac2e-09bf8d243d08\",\"type\":\"ColumnDataSource\"}},\"id\":\"5a38bf1a-e0cb-4902-9a2c-eac50b7c2246\",\"type\":\"CDSView\"},{\"attributes\":{\"axis_label\":\"word frequency\",\"formatter\":{\"id\":\"d95d63a6-cbbc-451b-bc2c-be5cc3814fdd\",\"type\":\"BasicTickFormatter\"},\"plot\":{\"id\":\"fca2ddf0-122e-4ffb-a2ac-c0a8a0846a9d\",\"subtype\":\"Figure\",\"type\":\"Plot\"},\"ticker\":{\"id\":\"9cb723fe-86c8-4fce-92c8-97d16ffb78f2\",\"type\":\"BasicTicker\"}},\"id\":\"82df7f1e-a512-4164-bcd7-19db02f6f658\",\"type\":\"LinearAxis\"},{\"attributes\":{\"callback\":null},\"id\":\"f4ab5902-b338-4338-8b51-727362f5eb60\",\"type\":\"DataRange1d\"},{\"attributes\":{\"callback\":null},\"id\":\"291b6b6c-1251-460b-b5ac-6b6c6c64eae5\",\"type\":\"DataRange1d\"},{\"attributes\":{},\"id\":\"d95d63a6-cbbc-451b-bc2c-be5cc3814fdd\",\"type\":\"BasicTickFormatter\"},{\"attributes\":{},\"id\":\"884519ab-4f07-4ba1-9825-b972539a302e\",\"type\":\"BasicTicker\"},{\"attributes\":{},\"id\":\"d938d35e-6b9f-42a9-a76a-3388ef374f19\",\"type\":\"LinearScale\"},{\"attributes\":{\"data_source\":{\"id\":\"959bdf84-f86b-4ff1-ac2e-09bf8d243d08\",\"type\":\"ColumnDataSource\"},\"glyph\":{\"id\":\"aa2eec14-a327-4d47-9718-cb21e27a3312\",\"type\":\"Quad\"},\"hover_glyph\":null,\"muted_glyph\":null,\"nonselection_glyph\":{\"id\":\"4da9d7f6-293b-40dd-ad2f-662952b28d14\",\"type\":\"Quad\"},\"selection_glyph\":null,\"view\":{\"id\":\"5a38bf1a-e0cb-4902-9a2c-eac50b7c2246\",\"type\":\"CDSView\"}},\"id\":\"2471ad0a-1764-4e50-bc52-0325818a58be\",\"type\":\"GlyphRenderer\"},{\"attributes\":{\"data_source\":{\"id\":\"ca743b9b-7762-4f33-b533-c19e2feb09fa\",\"type\":\"ColumnDataSource\"},\"glyph\":{\"id\":\"3c53f390-2a79-463b-bc23-686586c3d018\",\"type\":\"Quad\"},\"hover_glyph\":null,\"muted_glyph\":null,\"nonselection_glyph\":{\"id\":\"a21e541b-6693-45a8-acd3-49afdbc4d8a0\",\"type\":\"Quad\"},\"selection_glyph\":null,\"view\":{\"id\":\"9fe5a3ed-f955-4f79-af8a-40100fd3c7c2\",\"type\":\"CDSView\"}},\"id\":\"41aa3e26-8b4c-47d6-a501-3f34946016e0\",\"type\":\"GlyphRenderer\"},{\"attributes\":{\"children\":[{\"id\":\"fca2ddf0-122e-4ffb-a2ac-c0a8a0846a9d\",\"subtype\":\"Figure\",\"type\":\"Plot\"},{\"id\":\"265e75b9-d1ce-4851-b30b-c76c5629ed06\",\"subtype\":\"Figure\",\"type\":\"Plot\"}]},\"id\":\"e05d62b9-7254-49a9-951b-01bb3fd39d2f\",\"type\":\"Row\"},{\"attributes\":{\"source\":{\"id\":\"ca743b9b-7762-4f33-b533-c19e2feb09fa\",\"type\":\"ColumnDataSource\"}},\"id\":\"9fe5a3ed-f955-4f79-af8a-40100fd3c7c2\",\"type\":\"CDSView\"},{\"attributes\":{\"callback\":null,\"data\":{\"left\":{\"__ndarray__\":\"FlW1u7FrEsDgyMORp8oRwKs80medKRHAdbDgPZOIEMB+SN4nEs8PwBMw+9P9jA7AqBcYgOlKDcA8/zQs1QgMwNHmUdjAxgrAZs5uhKyECcD6tYswmEIIwI+dqNyDAAfAJIXFiG++BcC4bOI0W3wEwE1U/+BGOgPA4TscjTL4AcB2Izk5HrYAwBYWrMoT6P6/PuXlIutj/L9otB97wt/5v5CDWdOZW/e/ulKTK3HX9L/kIc2DSFPyvxjiDbg/nu+/bICBaO6V6r/AHvUYnY3lvxC9aMlLheC/wLa48/T51r/g5j+ppNLJv4CAOax9xaa/QE1GpsvfvD+gVqqIlUjRPwAawyc4Wds/sO5tY+204j9YUPqyPr3nPwiyhgKQxew/3IkJqfDm8D+wus9QGWvzP4jrlfhB7/U/YBxcoGpz+D84TSJIk/f6Pwx+6O+7e/0/5K6ul+T//z/eb7qfBkIBQEiInfMahAJAtKCARy/GA0AguWObQwgFQIrRRu9XSgZA9ukpQ2yMB0BiAg2XgM4IQA==\",\"dtype\":\"float64\",\"shape\":[50]},\"right\":{\"__ndarray__\":\"4MjDkafKEcCrPNJnnSkRwHWw4D2TiBDAfkjeJxLPD8ATMPvT/YwOwKgXGIDpSg3APP80LNUIDMDR5lHYwMYKwGbOboSshAnA+rWLMJhCCMCPnajcgwAHwCSFxYhvvgXAuGziNFt8BMBNVP/gRjoDwOE7HI0y+AHAdiM5OR62AMAWFqzKE+j+vz7l5SLrY/y/aLQfe8Lf+b+Qg1nTmVv3v7pSkytx1/S/5CHNg0hT8r8Y4g24P57vv2yAgWjuleq/wB71GJ2N5b8QvWjJS4Xgv8C2uPP0+da/4OY/qaTSyb+AgDmsfcWmv0BNRqbL37w/oFaqiJVI0T8AGsMnOFnbP7DubWPttOI/WFD6sj695z8IsoYCkMXsP9yJCanw5vA/sLrPUBlr8z+I65X4Qe/1P2AcXKBqc/g/OE0iSJP3+j8Mfujvu3v9P+Surpfk//8/3m+6nwZCAUBIiJ3zGoQCQLSggEcvxgNAILljm0MIBUCK0UbvV0oGQPbpKUNsjAdAYgINl4DOCEDNGvDqlBAKQA==\",\"dtype\":\"float64\",\"shape\":[50]},\"top\":{\"__ndarray__\":\"ERyB9ScHfj8AAAAAAAAAACBV6YX+YGA/gHGMsqjWRT8tVemF/mBwP/aNL99STHs/aKpjJz55hD/2jS/fUkx7P6o4tT0TNIc/mDi1PRM0lz8e1SD4XYWWP9J/plYebZI/9A34bPMnpT8mFQU/LnOjP1Qqm5mdnao/lZH+1ZBNtD/kBuuauNy2P9dNS5iCXr4/SjyENFE1wD/0Dfhs8yfFP4DhChOUv8w/EOZxzvHu0D8R9ZIbRvzUPxzFZ+bpSdc/EWURfDHl2z9Xz/fMUv/gPzroXB4AK+E/cHvQtgH14T9Q4zqc0xtzPwAAAAAAAAAAOs0MfUTD0D+Zb1wpaXrfP3CJWT821No/phnb3krr0z9aIx/jownQP4BxjLKo1sU/WuOpgJJkvz9jivEDVgK2P4S47K9yWK0//k3cs8MVoj+Z8cMkCPubP6y4fcuzD5E/KOOpgJJkjz86VemF/mCAP7D/3ch9kXg/gHGMsqjWZT+jcYyyqNZVP4BxjLKo1kU/gHGMsqjWRT+RcYyyqNZVPw==\",\"dtype\":\"float64\",\"shape\":[50]}},\"selected\":{\"id\":\"f6522dd4-d03e-42a2-b055-1986becf7958\",\"type\":\"Selection\"},\"selection_policy\":{\"id\":\"1bd8ebe8-e518-4896-82be-c88be9bee067\",\"type\":\"UnionRenderers\"}},\"id\":\"b90ffb62-93ce-407b-8859-d365fefb1533\",\"type\":\"ColumnDataSource\"},{\"attributes\":{\"axis_label\":\"relative count\",\"formatter\":{\"id\":\"c6e75327-64fb-4a3d-b706-f72a0a39b535\",\"type\":\"BasicTickFormatter\"},\"plot\":{\"id\":\"bb25cd37-89d4-47ef-b46a-f91d6efc3493\",\"subtype\":\"Figure\",\"type\":\"Plot\"},\"ticker\":{\"id\":\"c46dfcbc-8419-4732-8af6-f47e302eb23b\",\"type\":\"BasicTicker\"}},\"id\":\"d0ed50ae-ca26-4674-a7da-f68d49788f8b\",\"type\":\"LinearAxis\"},{\"attributes\":{\"background_fill_color\":{\"value\":\"#E8DDCB\"},\"below\":[{\"id\":\"82df7f1e-a512-4164-bcd7-19db02f6f658\",\"type\":\"LinearAxis\"}],\"left\":[{\"id\":\"55bf10c5-5eff-4f54-a5e6-48c3562ebc4b\",\"type\":\"LinearAxis\"}],\"plot_height\":400,\"plot_width\":400,\"renderers\":[{\"id\":\"82df7f1e-a512-4164-bcd7-19db02f6f658\",\"type\":\"LinearAxis\"},{\"id\":\"27b1dbad-2844-4e82-b8c4-a398da34d61d\",\"type\":\"Grid\"},{\"id\":\"55bf10c5-5eff-4f54-a5e6-48c3562ebc4b\",\"type\":\"LinearAxis\"},{\"id\":\"b93f74d7-2cad-4bee-997a-564cac1f840a\",\"type\":\"Grid\"},{\"id\":\"41aa3e26-8b4c-47d6-a501-3f34946016e0\",\"type\":\"GlyphRenderer\"}],\"title\":{\"id\":\"50066479-1979-41a2-abde-046a0ab4e90b\",\"type\":\"Title\"},\"toolbar\":{\"id\":\"6fed8b6a-8af7-466a-a4fb-9c04c5ae1aef\",\"type\":\"Toolbar\"},\"toolbar_location\":null,\"x_range\":{\"id\":\"f4ab5902-b338-4338-8b51-727362f5eb60\",\"type\":\"DataRange1d\"},\"x_scale\":{\"id\":\"fa5d60dc-56d7-43de-90f9-8c217663d1f5\",\"type\":\"LinearScale\"},\"y_range\":{\"id\":\"2144f323-a92f-4eba-88f4-23850694ba5f\",\"type\":\"DataRange1d\"},\"y_scale\":{\"id\":\"175c99fb-7ac1-4a7b-985c-c1603f6a398e\",\"type\":\"LinearScale\"}},\"id\":\"fca2ddf0-122e-4ffb-a2ac-c0a8a0846a9d\",\"subtype\":\"Figure\",\"type\":\"Plot\"},{\"attributes\":{\"axis_label\":\"relative count\",\"formatter\":{\"id\":\"ab25ddfc-13ee-43c0-a04a-ef456cc25b2b\",\"type\":\"BasicTickFormatter\"},\"plot\":{\"id\":\"7f50baca-6699-4873-ba26-615666c9ace0\",\"subtype\":\"Figure\",\"type\":\"Plot\"},\"ticker\":{\"id\":\"720bf615-2b60-41d0-a155-b515fea165f2\",\"type\":\"BasicTicker\"}},\"id\":\"b6f3ab41-ee34-474b-b45f-6edb631d62a1\",\"type\":\"LinearAxis\"},{\"attributes\":{},\"id\":\"b7af5cbc-37ed-42a1-b221-978c795228c3\",\"type\":\"LinearScale\"},{\"attributes\":{},\"id\":\"232e9c44-748e-4a1e-b3de-c084f7f3fa04\",\"type\":\"BasicTicker\"},{\"attributes\":{},\"id\":\"11ee6325-252a-4ce0-9f4a-fef775ae9eb9\",\"type\":\"SaveTool\"},{\"attributes\":{\"children\":[{\"id\":\"e05d62b9-7254-49a9-951b-01bb3fd39d2f\",\"type\":\"Row\"},{\"id\":\"81f37980-bfb7-4efb-800e-c7cc600779a6\",\"type\":\"Row\"}]},\"id\":\"3e302809-cd05-4397-9dcb-5562dc3b36ab\",\"type\":\"Column\"},{\"attributes\":{\"bottom\":{\"value\":0},\"fill_color\":{\"value\":\"#036564\"},\"left\":{\"field\":\"left\"},\"line_color\":{\"value\":\"#033649\"},\"right\":{\"field\":\"right\"},\"top\":{\"field\":\"top\"}},\"id\":\"aa2eec14-a327-4d47-9718-cb21e27a3312\",\"type\":\"Quad\"},{\"attributes\":{\"callback\":null,\"data\":{\"left\":{\"__ndarray__\":\"AAAAAAAAAACkcD0K16PgP6RwPQrXo/A/9ihcj8L1+D+kcD0K16MAQM3MzMzMzARA9ihcj8L1CEAfhetRuB4NQKRwPQrXoxBAuB6F61G4EkDNzMzMzMwUQOJ6FK5H4RZA9ihcj8L1GEAK16NwPQobQB+F61G4Hh1ANDMzMzMzH0CkcD0K16MgQK5H4XoUriFAuB6F61G4IkDD9Shcj8IjQM3MzMzMzCRA16NwPQrXJUDiehSuR+EmQOxRuB6F6ydA9ihcj8L1KEAAAAAAAAAqQArXo3A9CitAFa5H4XoULEAfhetRuB4tQClcj8L1KC5ANDMzMzMzL0AfhetRuB4wQKRwPQrXozBAKVyPwvUoMUCuR+F6FK4xQDMzMzMzMzJAuB6F61G4MkA+CtejcD0zQMP1KFyPwjNASOF6FK5HNEDNzMzMzMw0QFK4HoXrUTVA16NwPQrXNUBcj8L1KFw2QOJ6FK5H4TZAZ2ZmZmZmN0DsUbgehes3QHE9CtejcDhA9ihcj8L1OEB7FK5H4Xo5QA==\",\"dtype\":\"float64\",\"shape\":[50]},\"right\":{\"__ndarray__\":\"pHA9Ctej4D+kcD0K16PwP/YoXI/C9fg/pHA9CtejAEDNzMzMzMwEQPYoXI/C9QhAH4XrUbgeDUCkcD0K16MQQLgehetRuBJAzczMzMzMFEDiehSuR+EWQPYoXI/C9RhACtejcD0KG0AfhetRuB4dQDQzMzMzMx9ApHA9CtejIECuR+F6FK4hQLgehetRuCJAw/UoXI/CI0DNzMzMzMwkQNejcD0K1yVA4noUrkfhJkDsUbgehesnQPYoXI/C9ShAAAAAAAAAKkAK16NwPQorQBWuR+F6FCxAH4XrUbgeLUApXI/C9SguQDQzMzMzMy9AH4XrUbgeMECkcD0K16MwQClcj8L1KDFArkfhehSuMUAzMzMzMzMyQLgehetRuDJAPgrXo3A9M0DD9Shcj8IzQEjhehSuRzRAzczMzMzMNEBSuB6F61E1QNejcD0K1zVAXI/C9ShcNkDiehSuR+E2QGdmZmZmZjdA7FG4HoXrN0BxPQrXo3A4QPYoXI/C9ThAexSuR+F6OUAAAAAAAAA6QA==\",\"dtype\":\"float64\",\"shape\":[50]},\"top\":{\"__ndarray__\":\"E+TLU2kv5D9kaqt/mv/iP9GorlJPd9U/HHg1mbzexD+9KCBXrym1P3zHStvJk6Q/zpxj1+xDmj/m9ekJpnGNP0rQDQH2aIQ/JzwCOAcbfD8nPAI4BxtsP+316QmmcW0/aW7EqBBmYT9hbsSoEGZhPxkorHqvvGI/Iiiseq+8Uj+vtNzWcQ9QP5Wbex7taUU/oLTc1nEPQD+Vm3se7WlFP3uCGmZoxEo/gJt7Hu1pNT+Vm3se7WklP5Wbex7taSU/lZt7Hu1pNT8AAAAAAAAAAICbex7taTU/AAAAAAAAAAAAAAAAAAAAAICbex7taSU/AAAAAAAAAAAAAAAAAAAAAJWbex7taSU/AAAAAAAAAAAAAAAAAAAAAAAAAAAAAAAAAAAAAAAAAAAAAAAAAAAAAJWbex7taSU/AAAAAAAAAAAAAAAAAAAAAAAAAAAAAAAAAAAAAAAAAAAAAAAAAAAAAAAAAAAAAAAAAAAAAAAAAAAAAAAAAAAAAJWbex7taSU/AAAAAAAAAACVm3se7WklPw==\",\"dtype\":\"float64\",\"shape\":[50]}},\"selected\":{\"id\":\"459f268b-476d-4941-8322-a15fb79e3621\",\"type\":\"Selection\"},\"selection_policy\":{\"id\":\"c5408580-2b10-4c2e-a6c6-153b363980aa\",\"type\":\"UnionRenderers\"}},\"id\":\"1f3ee879-75bf-4938-9de1-21b3b8998670\",\"type\":\"ColumnDataSource\"},{\"attributes\":{},\"id\":\"69b85402-4ab8-4182-b8f2-19dc5d04d313\",\"type\":\"BasicTicker\"},{\"attributes\":{},\"id\":\"c6e75327-64fb-4a3d-b706-f72a0a39b535\",\"type\":\"BasicTickFormatter\"},{\"attributes\":{\"background_fill_color\":{\"value\":\"#E8DDCB\"},\"below\":[{\"id\":\"78e47de8-1419-4445-8718-4501206f52df\",\"type\":\"LinearAxis\"}],\"left\":[{\"id\":\"ec2b0071-f739-40aa-9047-28c8e3932e88\",\"type\":\"LinearAxis\"}],\"plot_height\":400,\"plot_width\":400,\"renderers\":[{\"id\":\"78e47de8-1419-4445-8718-4501206f52df\",\"type\":\"LinearAxis\"},{\"id\":\"45e7b622-0b77-48d0-9d89-fcccc6deafc9\",\"type\":\"Grid\"},{\"id\":\"ec2b0071-f739-40aa-9047-28c8e3932e88\",\"type\":\"LinearAxis\"},{\"id\":\"a3941a81-d6ed-4fbb-a75c-996e8511da98\",\"type\":\"Grid\"},{\"id\":\"2471ad0a-1764-4e50-bc52-0325818a58be\",\"type\":\"GlyphRenderer\"}],\"title\":{\"id\":\"57136215-3c64-43b5-abb9-9e8479d62850\",\"type\":\"Title\"},\"toolbar\":{\"id\":\"131191d8-48df-4614-a616-4eea8764d83d\",\"type\":\"Toolbar\"},\"toolbar_location\":null,\"x_range\":{\"id\":\"f25a5f09-9d15-4c61-80e6-00b56dc64ea3\",\"type\":\"DataRange1d\"},\"x_scale\":{\"id\":\"77206470-e906-4796-87f7-2643d3a8769b\",\"type\":\"LinearScale\"},\"y_range\":{\"id\":\"699336b2-a4de-4cf4-95d8-41c290067b43\",\"type\":\"DataRange1d\"},\"y_scale\":{\"id\":\"b7af5cbc-37ed-42a1-b221-978c795228c3\",\"type\":\"LinearScale\"}},\"id\":\"265e75b9-d1ce-4851-b30b-c76c5629ed06\",\"subtype\":\"Figure\",\"type\":\"Plot\"},{\"attributes\":{},\"id\":\"fa5d60dc-56d7-43de-90f9-8c217663d1f5\",\"type\":\"LinearScale\"},{\"attributes\":{\"bottom\":{\"value\":0},\"fill_color\":{\"value\":\"#036564\"},\"left\":{\"field\":\"left\"},\"line_color\":{\"value\":\"#033649\"},\"right\":{\"field\":\"right\"},\"top\":{\"field\":\"top\"}},\"id\":\"8ef1db53-0656-46d4-be7c-c8026c922e91\",\"type\":\"Quad\"},{\"attributes\":{},\"id\":\"1bd8ebe8-e518-4896-82be-c88be9bee067\",\"type\":\"UnionRenderers\"},{\"attributes\":{\"callback\":null},\"id\":\"f25a5f09-9d15-4c61-80e6-00b56dc64ea3\",\"type\":\"DataRange1d\"},{\"attributes\":{\"bottom\":{\"value\":0},\"fill_alpha\":{\"value\":0.1},\"fill_color\":{\"value\":\"#1f77b4\"},\"left\":{\"field\":\"left\"},\"line_alpha\":{\"value\":0.1},\"line_color\":{\"value\":\"#1f77b4\"},\"right\":{\"field\":\"right\"},\"top\":{\"field\":\"top\"}},\"id\":\"a21e541b-6693-45a8-acd3-49afdbc4d8a0\",\"type\":\"Quad\"},{\"attributes\":{},\"id\":\"3ba52dbc-feb6-40e9-8341-deb7868d9c1f\",\"type\":\"SaveTool\"},{\"attributes\":{},\"id\":\"4cc7910a-d6bc-4aab-9940-52aa7c268dc8\",\"type\":\"Selection\"},{\"attributes\":{},\"id\":\"52a284ff-b285-4ae8-9ad5-1092ddd7d2f1\",\"type\":\"LinearScale\"},{\"attributes\":{\"axis_label\":\"log(pos/neg ratio)\",\"formatter\":{\"id\":\"5532f2e2-7bf3-450c-bc26-5765b42c9b8e\",\"type\":\"BasicTickFormatter\"},\"plot\":{\"id\":\"7f50baca-6699-4873-ba26-615666c9ace0\",\"subtype\":\"Figure\",\"type\":\"Plot\"},\"ticker\":{\"id\":\"884519ab-4f07-4ba1-9825-b972539a302e\",\"type\":\"BasicTicker\"}},\"id\":\"556cf2f7-b7fb-443d-a044-1b2fdabf7008\",\"type\":\"LinearAxis\"},{\"attributes\":{\"data_source\":{\"id\":\"1f3ee879-75bf-4938-9de1-21b3b8998670\",\"type\":\"ColumnDataSource\"},\"glyph\":{\"id\":\"8ef1db53-0656-46d4-be7c-c8026c922e91\",\"type\":\"Quad\"},\"hover_glyph\":null,\"muted_glyph\":null,\"nonselection_glyph\":{\"id\":\"02da8774-3efd-42e6-a317-0f762df9bc6d\",\"type\":\"Quad\"},\"selection_glyph\":null,\"view\":{\"id\":\"c8b33538-b10c-4dfe-bcc1-67e714d11a64\",\"type\":\"CDSView\"}},\"id\":\"38ae9103-1219-45af-821e-ffd3a5a3418a\",\"type\":\"GlyphRenderer\"},{\"attributes\":{\"bottom\":{\"value\":0},\"fill_color\":{\"value\":\"#036564\"},\"left\":{\"field\":\"left\"},\"line_color\":{\"value\":\"#033649\"},\"right\":{\"field\":\"right\"},\"top\":{\"field\":\"top\"}},\"id\":\"3c53f390-2a79-463b-bc23-686586c3d018\",\"type\":\"Quad\"},{\"attributes\":{},\"id\":\"27ff5da7-8e56-4af6-bf7f-e3b005a25cfa\",\"type\":\"UnionRenderers\"},{\"attributes\":{},\"id\":\"c5408580-2b10-4c2e-a6c6-153b363980aa\",\"type\":\"UnionRenderers\"},{\"attributes\":{\"data_source\":{\"id\":\"b90ffb62-93ce-407b-8859-d365fefb1533\",\"type\":\"ColumnDataSource\"},\"glyph\":{\"id\":\"a6485244-a427-444d-8d4b-1c344364de04\",\"type\":\"Quad\"},\"hover_glyph\":null,\"muted_glyph\":null,\"nonselection_glyph\":{\"id\":\"f42206b3-41e1-49cf-924d-e8e44609e500\",\"type\":\"Quad\"},\"selection_glyph\":null,\"view\":{\"id\":\"ed880146-de58-44b3-847c-25edb6343ffe\",\"type\":\"CDSView\"}},\"id\":\"cb9d1e05-e92c-4906-b87a-ab156bd74112\",\"type\":\"GlyphRenderer\"},{\"attributes\":{},\"id\":\"6f612d4d-e9d6-462a-a8ee-f1f9065acbfe\",\"type\":\"Selection\"},{\"attributes\":{},\"id\":\"77206470-e906-4796-87f7-2643d3a8769b\",\"type\":\"LinearScale\"},{\"attributes\":{\"dimension\":1,\"plot\":{\"id\":\"265e75b9-d1ce-4851-b30b-c76c5629ed06\",\"subtype\":\"Figure\",\"type\":\"Plot\"},\"ticker\":{\"id\":\"24faeeed-38ee-4083-93d1-310cd4b41fa0\",\"type\":\"BasicTicker\"}},\"id\":\"a3941a81-d6ed-4fbb-a75c-996e8511da98\",\"type\":\"Grid\"},{\"attributes\":{\"active_drag\":\"auto\",\"active_inspect\":\"auto\",\"active_scroll\":\"auto\",\"active_tap\":\"auto\",\"tools\":[{\"id\":\"6e2d6bf4-bfc6-4a07-aa08-0ccb24baf3ff\",\"type\":\"SaveTool\"}]},\"id\":\"4695a814-0ba4-44f2-9969-1db4d7e461c4\",\"type\":\"Toolbar\"}],\"root_ids\":[\"3e302809-cd05-4397-9dcb-5562dc3b36ab\"]},\"title\":\"Bokeh Application\",\"version\":\"0.12.16\"}};\n",
       "  var render_items = [{\"docid\":\"99d063eb-dc59-4129-b7c5-95d8475038b1\",\"elementid\":\"9054f73d-565d-442f-8f86-410271d06df0\",\"modelid\":\"3e302809-cd05-4397-9dcb-5562dc3b36ab\"}];\n",
       "  root.Bokeh.embed.embed_items_notebook(docs_json, render_items);\n",
       "\n",
       "  }\n",
       "  if (root.Bokeh !== undefined) {\n",
       "    embed_document(root);\n",
       "  } else {\n",
       "    var attempts = 0;\n",
       "    var timer = setInterval(function(root) {\n",
       "      if (root.Bokeh !== undefined) {\n",
       "        embed_document(root);\n",
       "        clearInterval(timer);\n",
       "      }\n",
       "      attempts++;\n",
       "      if (attempts > 100) {\n",
       "        console.log(\"Bokeh: ERROR: Unable to run BokehJS code because BokehJS library is missing\")\n",
       "        clearInterval(timer);\n",
       "      }\n",
       "    }, 10, root)\n",
       "  }\n",
       "})(window);"
      ],
      "application/vnd.bokehjs_exec.v0+json": ""
     },
     "metadata": {
      "application/vnd.bokehjs_exec.v0+json": {
       "id": "3e302809-cd05-4397-9dcb-5562dc3b36ab"
      }
     },
     "output_type": "display_data"
    }
   ],
   "source": [
    "from bokeh.layouts import gridplot\n",
    "from bokeh.plotting import figure, show, output_file\n",
    "\n",
    "p1 = figure(title=\"Discriminating Word Distribution\",tools=\"save\",\n",
    "            background_fill_color=\"#E8DDCB\")\n",
    "\n",
    "measured = []\n",
    "for word in review_vocab:\n",
    "    measured.append(pos_neg_ratios[word])\n",
    "    \n",
    "measured = np.array(measured)\n",
    "hist, edges = np.histogram(measured, density=True, bins=50)\n",
    "\n",
    "p1.quad(top=hist, bottom=0, left=edges[:-1], right=edges[1:],\n",
    "        fill_color=\"#036564\", line_color=\"#033649\")\n",
    "\n",
    "p1.legend.location = \"center_right\"\n",
    "p1.legend.background_fill_color = \"darkgrey\"\n",
    "p1.xaxis.axis_label = 'log(pos/neg ratio)'\n",
    "p1.yaxis.axis_label = 'relative count'\n",
    "\n",
    "p2 = figure(title=\"Raw Word Distribution\",tools=\"save\",\n",
    "            background_fill_color=\"#E8DDCB\")\n",
    "\n",
    "measured = []\n",
    "for word in total_counts:\n",
    "    measured.append(total_counts[word])\n",
    "    \n",
    "measured = np.array(measured)\n",
    "hist, edges = np.histogram(measured, density=True, bins=50)\n",
    "\n",
    "p2.quad(top=hist, bottom=0, left=edges[:-1], right=edges[1:],\n",
    "        fill_color=\"#036564\", line_color=\"#033649\")\n",
    "\n",
    "p2.legend.location = \"center_right\"\n",
    "p2.legend.background_fill_color = \"darkgrey\"\n",
    "p2.xaxis.axis_label = 'word frequency'\n",
    "p2.yaxis.axis_label = 'relative count'\n",
    "\n",
    "p3 = figure(title=\"Min Count Word Distribution\",tools=\"save\",\n",
    "            background_fill_color=\"#E8DDCB\")\n",
    "\n",
    "measured = []\n",
    "for word in total_counts:\n",
    "    c = total_counts[word]\n",
    "    if c > min_count:\n",
    "        measured.append(c)\n",
    "    \n",
    "measured = np.array(measured)\n",
    "hist, edges = np.histogram(measured, density=True, bins=50)\n",
    "\n",
    "p3.quad(top=hist, bottom=0, left=edges[:-1], right=edges[1:],\n",
    "        fill_color=\"#036564\", line_color=\"#033649\")\n",
    "\n",
    "p3.legend.location = \"center_right\"\n",
    "p3.legend.background_fill_color = \"darkgrey\"\n",
    "p3.xaxis.axis_label = 'word frequency (above cutoff)'\n",
    "p3.yaxis.axis_label = 'relative count'\n",
    "\n",
    "p4 = figure(title=\"Pos/Neg Distribution\",tools=\"save\",\n",
    "            background_fill_color=\"#E8DDCB\")\n",
    "\n",
    "measured = []\n",
    "for term,cnt in list(total_counts.most_common()):\n",
    "    if(cnt >= min_count):\n",
    "        pos_neg_ratio = positive_counts[term] / float(negative_counts[term]+1)\n",
    "        measured.append(pos_neg_ratio)\n",
    "    \n",
    "measured = np.array(measured)\n",
    "hist, edges = np.histogram(measured, density=True, bins=50)\n",
    "\n",
    "p4.quad(top=hist, bottom=0, left=edges[:-1], right=edges[1:],\n",
    "        fill_color=\"#036564\", line_color=\"#033649\")\n",
    "\n",
    "p4.legend.location = \"center_right\"\n",
    "p4.legend.background_fill_color = \"darkgrey\"\n",
    "p4.xaxis.axis_label = 'pos/neg ratio'\n",
    "p4.yaxis.axis_label = 'relative count'\n",
    "\n",
    "show(gridplot(p2,p3,p4,p1, ncols=2, plot_width=400, plot_height=400, toolbar_location=None))\n"
   ]
  },
  {
   "cell_type": "code",
   "execution_count": 33,
   "metadata": {},
   "outputs": [
    {
     "name": "stderr",
     "output_type": "stream",
     "text": [
      "  2%|▏         | 2342/100000 [00:00<00:08, 11699.34it/s]"
     ]
    },
    {
     "name": "stdout",
     "output_type": "stream",
     "text": [
      "Creating 1-hot positive encodings\n"
     ]
    },
    {
     "name": "stderr",
     "output_type": "stream",
     "text": [
      "100%|██████████| 100000/100000 [00:08<00:00, 11611.25it/s]\n",
      "  2%|▏         | 1694/100000 [00:00<00:11, 8456.54it/s]"
     ]
    },
    {
     "name": "stdout",
     "output_type": "stream",
     "text": [
      "Creating 1-hot negative encodings\n"
     ]
    },
    {
     "name": "stderr",
     "output_type": "stream",
     "text": [
      "100%|██████████| 100000/100000 [00:11<00:00, 8519.91it/s]\n"
     ]
    }
   ],
   "source": [
    "# create mappings from words to numbers and vice versa\n",
    "\n",
    "word2index = {}\n",
    "index2word = {}\n",
    "for i, word in enumerate(review_vocab):\n",
    "    word2index[word] = i\n",
    "    index2word[i] = word\n",
    "\n",
    "n = len(review_vocab)\n",
    "samples = len(positive)+len(negative)\n",
    "all_words = word2index.keys()\n",
    "\n",
    "# encode 1-hot reviews\n",
    "x = np.zeros((samples, n))\n",
    "y = np.zeros((samples,2))\n",
    "\n",
    "idx = -1\n",
    "print(\"Creating 1-hot positive encodings\")\n",
    "for review in tqdm(positive):\n",
    "    idx += 1\n",
    "    for word in review.split(\" \"):\n",
    "        if word in all_words:\n",
    "            x[idx, word2index[word]] = 1\n",
    "            y[idx,0] = 1\n",
    " \n",
    "print(\"Creating 1-hot negative encodings\")\n",
    "for review in tqdm(negative):\n",
    "    idx += 1\n",
    "    for word in review.split(\" \"):\n",
    "        if word in all_words:\n",
    "            x[idx, word2index[word]] = 1\n",
    "            y[idx,1] = 1\n",
    "    "
   ]
  },
  {
   "cell_type": "code",
   "execution_count": 35,
   "metadata": {},
   "outputs": [],
   "source": [
    "from sklearn.model_selection import train_test_split\n",
    "\n",
    "X_train, X_test, y_train, y_test = train_test_split(x, y, test_size=0.1, random_state=42)"
   ]
  },
  {
   "cell_type": "code",
   "execution_count": 37,
   "metadata": {},
   "outputs": [
    {
     "name": "stdout",
     "output_type": "stream",
     "text": [
      "Done\n"
     ]
    }
   ],
   "source": [
    "import tensorflow as tf\n",
    "\n",
    "# We'll bundle groups of examples during training for efficiency.\n",
    "# This defines the size of the batch.\n",
    "BATCH_SIZE = 100\n",
    "VOCAB_SIZE = len(review_vocab)\n",
    "EMBEDDING_SIZE = 64\n",
    "NUM_LABELS = 2\n",
    "NUM_GPUS = 4\n",
    "LEARNING_RATE = 0.0005\n",
    "DISPLAY_STEP = 100\n",
    "NUM_STEPS = 2000\n",
    "\n",
    "# The random seed that defines initialization.\n",
    "SEED = 42\n",
    "\n",
    "def model(x, prefix='model', reuse=True, is_training=True):\n",
    "    # Define a scope for reusing the variables\n",
    "    with tf.variable_scope('Model', reuse=reuse):\n",
    "        nn = tf.layers.dense(x, EMBEDDING_SIZE, activation=tf.nn.sigmoid, name=prefix+'_embedding')\n",
    "        nn = tf.layers.dense(nn, NUM_LABELS, activation=tf.nn.sigmoid, name=prefix+'_logits')\n",
    "        # We only apply need to apply softmax to testing network\n",
    "        out = tf.nn.softmax(nn) if not is_training else nn\n",
    "        return out\n",
    "\n",
    "print('Done')"
   ]
  },
  {
   "cell_type": "code",
   "execution_count": 38,
   "metadata": {},
   "outputs": [
    {
     "name": "stdout",
     "output_type": "stream",
     "text": [
      "Done\n"
     ]
    }
   ],
   "source": [
    "# Build the function to average the gradients\n",
    "def average_gradients(tower_grads):\n",
    "    average_grads = []\n",
    "    \n",
    "   # print(tower_grads)\n",
    "\n",
    "    for grad_and_vars in zip(*tower_grads):\n",
    "        # Note that each grad_and_vars looks like the following:\n",
    "        #   ((grad0_gpu0, var0_gpu0), ... , (grad0_gpuN, var0_gpuN))\n",
    "        grads = []\n",
    "        for g, _ in grad_and_vars:\n",
    "            # Add 0 dimension to the gradients to represent the tower.\n",
    "            expanded_g = tf.expand_dims(g, 0)\n",
    "\n",
    "            # Append on a 'tower' dimension which we will average over below.\n",
    "            grads.append(expanded_g)\n",
    "\n",
    "        # Average over the 'tower' dimension.\n",
    "        grad = tf.concat(grads, 0)\n",
    "        grad = tf.reduce_mean(grad, 0)\n",
    "\n",
    "        # Keep in mind that the Variables are redundant because they are shared\n",
    "        # across towers. So .. we will just return the first tower's pointer to\n",
    "        # the Variable.\n",
    "        v = grad_and_vars[0][1]\n",
    "        grad_and_var = (grad, v)\n",
    "        average_grads.append(grad_and_var)\n",
    "    return average_grads\n",
    "\n",
    "print('Done')"
   ]
  },
  {
   "cell_type": "code",
   "execution_count": 39,
   "metadata": {},
   "outputs": [
    {
     "name": "stdout",
     "output_type": "stream",
     "text": [
      "Done\n"
     ]
    }
   ],
   "source": [
    "# wire everything up\n",
    "# By default, all variables will be placed on '/gpu:0'\n",
    "# So we need a custom device function, to assign all variables to '/cpu:0'\n",
    "# Note: If GPUs are peered, '/gpu:0' can be a faster option\n",
    "PS_OPS = ['Variable', 'VariableV2', 'AutoReloadVariable']\n",
    "\n",
    "def assign_to_device(device, ps_device='/cpu:0'):\n",
    "    def _assign(op):\n",
    "        node_def = op if isinstance(op, tf.NodeDef) else op.node_def\n",
    "        if node_def.op in PS_OPS:\n",
    "            return \"/\" + ps_device\n",
    "        else:\n",
    "            return device\n",
    "\n",
    "    return _assign\n",
    "\n",
    "print('Done')"
   ]
  },
  {
   "cell_type": "code",
   "execution_count": 40,
   "metadata": {},
   "outputs": [
    {
     "name": "stdout",
     "output_type": "stream",
     "text": [
      "WARNING:tensorflow:From <ipython-input-40-33ad52df70a9>:37: softmax_cross_entropy_with_logits (from tensorflow.python.ops.nn_ops) is deprecated and will be removed in a future version.\n",
      "Instructions for updating:\n",
      "\n",
      "Future major versions of TensorFlow will allow gradients to flow\n",
      "into the labels input on backprop by default.\n",
      "\n",
      "See @{tf.nn.softmax_cross_entropy_with_logits_v2}.\n",
      "\n",
      "GPU 0 configured\n",
      "GPU 1 configured\n",
      "GPU 2 configured\n",
      "GPU 3 configured\n",
      "Step 1: Minibatch Loss= 0.6863, Training Accuracy= 0.400, 250 Examples/sec\n",
      "Step 100: Minibatch Loss= 0.5808, Training Accuracy= 0.860, 30526 Examples/sec\n",
      "Step 200: Minibatch Loss= 0.4918, Training Accuracy= 0.900, 28575 Examples/sec\n",
      "Step 300: Minibatch Loss= 0.4455, Training Accuracy= 0.920, 30029 Examples/sec\n",
      "Step 400: Minibatch Loss= 0.4048, Training Accuracy= 0.940, 30343 Examples/sec\n",
      "Step 500: Minibatch Loss= 0.3870, Training Accuracy= 0.920, 30473 Examples/sec\n",
      "Step 600: Minibatch Loss= 0.3973, Training Accuracy= 0.940, 30121 Examples/sec\n",
      "Step 700: Minibatch Loss= 0.3889, Training Accuracy= 0.920, 30829 Examples/sec\n",
      "Step 800: Minibatch Loss= 0.3992, Training Accuracy= 0.920, 30930 Examples/sec\n",
      "Step 900: Minibatch Loss= 0.3873, Training Accuracy= 0.940, 29816 Examples/sec\n",
      "Step 1000: Minibatch Loss= 0.4100, Training Accuracy= 0.960, 32068 Examples/sec\n",
      "Optimization Finished!\n",
      "Testing Accuracy: 0.93799996\n"
     ]
    }
   ],
   "source": [
    "import time\n",
    "\n",
    "tf.reset_default_graph()\n",
    "\n",
    "NUM_STEPS=1000\n",
    "\n",
    "# Place all ops on CPU by default\n",
    "with tf.device('/cpu:0'):\n",
    "    tower_grads = []\n",
    "    reuse_vars = False\n",
    "    #reuse_vars = True\n",
    "    num_samples = X_train.shape[0]\n",
    "\n",
    "    # tf Graph input\n",
    "    X = tf.placeholder(tf.float32, [None, VOCAB_SIZE])\n",
    "    Y = tf.placeholder(tf.float32, [None, NUM_LABELS])\n",
    "\n",
    "    # Loop over all GPUs and construct their own computation graph\n",
    "    for i in range(NUM_GPUS):\n",
    "        with tf.device(assign_to_device('/gpu:{}'.format(i), ps_device='/cpu:0')):\n",
    "\n",
    "            # Split data between GPUs\n",
    "            _x = X[i * BATCH_SIZE: (i+1) * BATCH_SIZE]\n",
    "            _y = Y[i * BATCH_SIZE: (i+1) * BATCH_SIZE]\n",
    "\n",
    "            # Because Dropout have different behavior at training and prediction time, we\n",
    "            # need to create 2 distinct computation graphs that share the same weights.\n",
    "\n",
    "            # Create a graph for training\n",
    "            logits_train = model(_x, reuse=reuse_vars, prefix=\"yelp\")\n",
    "            \n",
    "            # Create another graph for testing that reuse the same weights\n",
    "            logits_test = model(_x, reuse=True, prefix=\"yelp\", is_training=False)\n",
    "\n",
    "            # Define loss and optimizer (with train logits, for dropout to take effect)\n",
    "            loss_op = tf.reduce_mean(tf.nn.softmax_cross_entropy_with_logits(\n",
    "                logits=logits_train, labels=_y))\n",
    "            optimizer = tf.train.AdamOptimizer(learning_rate=LEARNING_RATE)\n",
    "            grads = optimizer.compute_gradients(loss_op)\n",
    "            \n",
    "            print(\"GPU\",i,\"configured\")\n",
    "            \n",
    "            # Only first GPU compute accuracy\n",
    "            if i == 0:\n",
    "                # Evaluate model (with test logits, for dropout to be disabled)\n",
    "                correct_pred = tf.equal(tf.argmax(logits_test, 1), tf.argmax(_y, 1))\n",
    "                accuracy = tf.reduce_mean(tf.cast(correct_pred, tf.float32))\n",
    "\n",
    "            reuse_vars = True\n",
    "            tower_grads.append(grads)\n",
    "\n",
    "    tower_grads = average_gradients(tower_grads)\n",
    "    train_op = optimizer.apply_gradients(tower_grads)\n",
    "    \n",
    "    # Initializing the variables\n",
    "    init = tf.global_variables_initializer()\n",
    "\n",
    "    # Launch the graph\n",
    "    with tf.Session() as sess:\n",
    "        sess.run(init)\n",
    "        step = 1\n",
    "        # Keep training until reach max iterations\n",
    "        for step in range(1, NUM_STEPS + 1):\n",
    "            # Get a batch for each GPU\n",
    "            indices = np.random.choice(num_samples, BATCH_SIZE*NUM_GPUS)\n",
    "            batch_x = X_train[indices]\n",
    "            batch_y = y_train[indices]\n",
    "            \n",
    "            # Run optimization op (backprop)\n",
    "            ts = time.time()\n",
    "            sess.run(train_op, feed_dict={X: batch_x, Y: batch_y})\n",
    "            te = time.time() - ts\n",
    "            if step % DISPLAY_STEP == 0 or step == 1:\n",
    "                # Calculate batch loss and accuracy\n",
    "                loss, acc = sess.run([loss_op, accuracy], feed_dict={X: batch_x,\n",
    "                                                                     Y: batch_y})\n",
    "                print(\"Step \" + str(step) + \": Minibatch Loss= \" + \\\n",
    "                      \"{:.4f}\".format(loss) + \", Training Accuracy= \" + \\\n",
    "                      \"{:.3f}\".format(acc) + \", %i Examples/sec\" % int(len(batch_x)/te))\n",
    "            step += 1\n",
    "        print(\"Optimization Finished!\")\n",
    "        \n",
    "        graph = tf.get_default_graph()\n",
    "        t1 = graph.get_tensor_by_name('Model/yelp_embedding/kernel:0')\n",
    "        embeddings = np.array(sess.run(t1))\n",
    "\n",
    "        # Calculate accuracy for 1000 mnist test images\n",
    "        print(\"Testing Accuracy:\", \\\n",
    "            np.mean([sess.run(accuracy, feed_dict={X: X_test[i:i+BATCH_SIZE],\n",
    "            Y: y_test[i:i+BATCH_SIZE]}) for i in range(0, X_test.shape[0], BATCH_SIZE)]))"
   ]
  },
  {
   "cell_type": "code",
   "execution_count": 47,
   "metadata": {},
   "outputs": [
    {
     "data": {
      "text/plain": [
       "[('amazing', 4.5566792),\n",
       " ('excellent', 4.502412),\n",
       " ('awesome', 4.461518),\n",
       " ('delicious', 4.3799253),\n",
       " ('fantastic', 4.245284),\n",
       " ('great', 4.18213),\n",
       " ('perfect', 4.0839887),\n",
       " ('best', 3.8032513),\n",
       " ('love', 3.7550054),\n",
       " ('outstanding', 3.6706927)]"
      ]
     },
     "execution_count": 47,
     "metadata": {},
     "output_type": "execute_result"
    }
   ],
   "source": [
    "def get_most_similar_words(focus = \"love\"):\n",
    "    keys = word2index.keys()\n",
    "    if focus not in keys:\n",
    "        print(\"Sorry, word not found\")\n",
    "        return\n",
    "    \n",
    "    most_similar = Counter()\n",
    "    for word in word2index.keys():\n",
    "        most_similar[word] = np.dot(embeddings[word2index[word]],\n",
    "                                    embeddings[word2index[focus]])\n",
    "    \n",
    "    return most_similar.most_common()[0:10]\n",
    "\n",
    "get_most_similar_words('yummy')"
   ]
  },
  {
   "cell_type": "code",
   "execution_count": 48,
   "metadata": {},
   "outputs": [],
   "source": [
    "import matplotlib.colors as colors\n",
    "\n",
    "words_to_visualize = list()\n",
    "for word, ratio in pos_neg_ratios.most_common(500):\n",
    "    if(word in word2index.keys()):\n",
    "        words_to_visualize.append(word)\n",
    "    \n",
    "for word, ratio in list(reversed(pos_neg_ratios.most_common()))[0:500]:\n",
    "    if(word in word2index.keys()):\n",
    "        words_to_visualize.append(word)"
   ]
  },
  {
   "cell_type": "code",
   "execution_count": 49,
   "metadata": {},
   "outputs": [
    {
     "name": "stdout",
     "output_type": "stream",
     "text": [
      "Pos 500 neg 500\n"
     ]
    }
   ],
   "source": [
    "pos = 0\n",
    "neg = 0\n",
    "\n",
    "colors_list = list()\n",
    "vectors_list = list()\n",
    "for word in words_to_visualize:\n",
    "    if word in pos_neg_ratios.keys():\n",
    "        vectors_list.append(embeddings[word2index[word]])\n",
    "        if(pos_neg_ratios[word] > 0):\n",
    "            pos+=1\n",
    "            colors_list.append(\"#00ff00\")\n",
    "        else:\n",
    "            neg+=1\n",
    "            colors_list.append(\"#000000\")\n",
    "            \n",
    "print(\"Pos\",pos,\"neg\",neg)"
   ]
  },
  {
   "cell_type": "code",
   "execution_count": 50,
   "metadata": {},
   "outputs": [
    {
     "name": "stdout",
     "output_type": "stream",
     "text": [
      "TSNE visualization ready\n"
     ]
    }
   ],
   "source": [
    "from sklearn.manifold import TSNE\n",
    "tsne = TSNE(n_components=2, random_state=0)\n",
    "words_top_ted_tsne = tsne.fit_transform(vectors_list)\n",
    "print(\"TSNE visualization ready\")"
   ]
  },
  {
   "cell_type": "code",
   "execution_count": 51,
   "metadata": {
    "scrolled": true
   },
   "outputs": [
    {
     "data": {
      "text/html": [
       "\n",
       "<div class=\"bk-root\">\n",
       "    <div class=\"bk-plotdiv\" id=\"3b582636-c0dd-45b6-88f5-82b2b2815b6c\"></div>\n",
       "</div>"
      ]
     },
     "metadata": {},
     "output_type": "display_data"
    },
    {
     "data": {
      "application/javascript": [
       "(function(root) {\n",
       "  function embed_document(root) {\n",
       "    \n",
       "  var docs_json = {\"e7e3c4cc-3e81-4656-8def-b683db48d142\":{\"roots\":{\"references\":[{\"attributes\":{\"formatter\":{\"id\":\"46aac8ef-a593-471c-84c5-6556c524d6ed\",\"type\":\"BasicTickFormatter\"},\"plot\":{\"id\":\"41d76535-c447-4276-95b1-217d36fa9d72\",\"subtype\":\"Figure\",\"type\":\"Plot\"},\"ticker\":{\"id\":\"cf926537-00cf-4551-a72c-c309a45d43fa\",\"type\":\"BasicTicker\"}},\"id\":\"37b17073-7918-4291-a01c-92107833efed\",\"type\":\"LinearAxis\"},{\"attributes\":{\"fill_alpha\":{\"value\":0.1},\"fill_color\":{\"value\":\"#1f77b4\"},\"line_alpha\":{\"value\":0.1},\"line_color\":{\"value\":\"#1f77b4\"},\"size\":{\"units\":\"screen\",\"value\":8},\"x\":{\"field\":\"x1\"},\"y\":{\"field\":\"x2\"}},\"id\":\"7e81a793-1880-42af-88ef-117d0b6b21f8\",\"type\":\"Circle\"},{\"attributes\":{},\"id\":\"e1c420c0-68d2-4b18-8a26-3b83a8bbb2f9\",\"type\":\"BasicTickFormatter\"},{\"attributes\":{},\"id\":\"cf926537-00cf-4551-a72c-c309a45d43fa\",\"type\":\"BasicTicker\"},{\"attributes\":{},\"id\":\"a8968ab9-8222-44c0-bb37-8d5060a04878\",\"type\":\"UnionRenderers\"},{\"attributes\":{\"formatter\":{\"id\":\"e1c420c0-68d2-4b18-8a26-3b83a8bbb2f9\",\"type\":\"BasicTickFormatter\"},\"plot\":{\"id\":\"41d76535-c447-4276-95b1-217d36fa9d72\",\"subtype\":\"Figure\",\"type\":\"Plot\"},\"ticker\":{\"id\":\"91067c81-beaa-48ed-aa6b-b36d676da2fd\",\"type\":\"BasicTicker\"}},\"id\":\"e0a443a7-bf70-4586-bd03-8ff80e017f27\",\"type\":\"LinearAxis\"},{\"attributes\":{},\"id\":\"91067c81-beaa-48ed-aa6b-b36d676da2fd\",\"type\":\"BasicTicker\"},{\"attributes\":{},\"id\":\"adbdd36f-55f9-45ac-982b-8ff785bf40cc\",\"type\":\"Selection\"},{\"attributes\":{\"dimension\":1,\"plot\":{\"id\":\"41d76535-c447-4276-95b1-217d36fa9d72\",\"subtype\":\"Figure\",\"type\":\"Plot\"},\"ticker\":{\"id\":\"91067c81-beaa-48ed-aa6b-b36d676da2fd\",\"type\":\"BasicTicker\"}},\"id\":\"9803213d-e6fb-47da-aa57-b691713e1fcc\",\"type\":\"Grid\"},{\"attributes\":{},\"id\":\"10075066-ac4d-438a-ac71-47a5c0a97206\",\"type\":\"PanTool\"},{\"attributes\":{\"below\":[{\"id\":\"37b17073-7918-4291-a01c-92107833efed\",\"type\":\"LinearAxis\"}],\"left\":[{\"id\":\"e0a443a7-bf70-4586-bd03-8ff80e017f27\",\"type\":\"LinearAxis\"}],\"renderers\":[{\"id\":\"37b17073-7918-4291-a01c-92107833efed\",\"type\":\"LinearAxis\"},{\"id\":\"a10619ec-dfae-4ff2-9934-acd1abb54c97\",\"type\":\"Grid\"},{\"id\":\"e0a443a7-bf70-4586-bd03-8ff80e017f27\",\"type\":\"LinearAxis\"},{\"id\":\"9803213d-e6fb-47da-aa57-b691713e1fcc\",\"type\":\"Grid\"},{\"id\":\"280febf7-9c81-4c92-ae54-976b3bb345af\",\"type\":\"GlyphRenderer\"},{\"id\":\"8702dcb3-57d6-4ed2-84c9-cde216188306\",\"type\":\"LabelSet\"}],\"title\":{\"id\":\"5e6966e9-7046-45a3-b06e-1a206245ffbe\",\"type\":\"Title\"},\"toolbar\":{\"id\":\"4e4cb40f-7db2-4744-ab27-14e8a417c15c\",\"type\":\"Toolbar\"},\"toolbar_location\":\"above\",\"x_range\":{\"id\":\"be6497b5-3053-406d-a3c4-274184948486\",\"type\":\"DataRange1d\"},\"x_scale\":{\"id\":\"71fdeedd-9258-4f49-bae3-d890299cefcc\",\"type\":\"LinearScale\"},\"y_range\":{\"id\":\"847842b2-1e6b-434e-b74b-e05323fef86c\",\"type\":\"DataRange1d\"},\"y_scale\":{\"id\":\"1eab938c-bd06-436f-b65b-850f0f0b939e\",\"type\":\"LinearScale\"}},\"id\":\"41d76535-c447-4276-95b1-217d36fa9d72\",\"subtype\":\"Figure\",\"type\":\"Plot\"},{\"attributes\":{},\"id\":\"e63e4e6d-a01b-4d9a-8ee4-cfc34271541c\",\"type\":\"WheelZoomTool\"},{\"attributes\":{\"callback\":null,\"data\":{\"color\":[\"#00ff00\",\"#00ff00\",\"#00ff00\",\"#00ff00\",\"#00ff00\",\"#00ff00\",\"#00ff00\",\"#00ff00\",\"#00ff00\",\"#00ff00\",\"#00ff00\",\"#00ff00\",\"#00ff00\",\"#00ff00\",\"#00ff00\",\"#00ff00\",\"#00ff00\",\"#00ff00\",\"#00ff00\",\"#00ff00\",\"#00ff00\",\"#00ff00\",\"#00ff00\",\"#00ff00\",\"#00ff00\",\"#00ff00\",\"#00ff00\",\"#00ff00\",\"#00ff00\",\"#00ff00\",\"#00ff00\",\"#00ff00\",\"#00ff00\",\"#00ff00\",\"#00ff00\",\"#00ff00\",\"#00ff00\",\"#00ff00\",\"#00ff00\",\"#00ff00\",\"#00ff00\",\"#00ff00\",\"#00ff00\",\"#00ff00\",\"#00ff00\",\"#00ff00\",\"#00ff00\",\"#00ff00\",\"#00ff00\",\"#00ff00\",\"#00ff00\",\"#00ff00\",\"#00ff00\",\"#00ff00\",\"#00ff00\",\"#00ff00\",\"#00ff00\",\"#00ff00\",\"#00ff00\",\"#00ff00\",\"#00ff00\",\"#00ff00\",\"#00ff00\",\"#00ff00\",\"#00ff00\",\"#00ff00\",\"#00ff00\",\"#00ff00\",\"#00ff00\",\"#00ff00\",\"#00ff00\",\"#00ff00\",\"#00ff00\",\"#00ff00\",\"#00ff00\",\"#00ff00\",\"#00ff00\",\"#00ff00\",\"#00ff00\",\"#00ff00\",\"#00ff00\",\"#00ff00\",\"#00ff00\",\"#00ff00\",\"#00ff00\",\"#00ff00\",\"#00ff00\",\"#00ff00\",\"#00ff00\",\"#00ff00\",\"#00ff00\",\"#00ff00\",\"#00ff00\",\"#00ff00\",\"#00ff00\",\"#00ff00\",\"#00ff00\",\"#00ff00\",\"#00ff00\",\"#00ff00\",\"#00ff00\",\"#00ff00\",\"#00ff00\",\"#00ff00\",\"#00ff00\",\"#00ff00\",\"#00ff00\",\"#00ff00\",\"#00ff00\",\"#00ff00\",\"#00ff00\",\"#00ff00\",\"#00ff00\",\"#00ff00\",\"#00ff00\",\"#00ff00\",\"#00ff00\",\"#00ff00\",\"#00ff00\",\"#00ff00\",\"#00ff00\",\"#00ff00\",\"#00ff00\",\"#00ff00\",\"#00ff00\",\"#00ff00\",\"#00ff00\",\"#00ff00\",\"#00ff00\",\"#00ff00\",\"#00ff00\",\"#00ff00\",\"#00ff00\",\"#00ff00\",\"#00ff00\",\"#00ff00\",\"#00ff00\",\"#00ff00\",\"#00ff00\",\"#00ff00\",\"#00ff00\",\"#00ff00\",\"#00ff00\",\"#00ff00\",\"#00ff00\",\"#00ff00\",\"#00ff00\",\"#00ff00\",\"#00ff00\",\"#00ff00\",\"#00ff00\",\"#00ff00\",\"#00ff00\",\"#00ff00\",\"#00ff00\",\"#00ff00\",\"#00ff00\",\"#00ff00\",\"#00ff00\",\"#00ff00\",\"#00ff00\",\"#00ff00\",\"#00ff00\",\"#00ff00\",\"#00ff00\",\"#00ff00\",\"#00ff00\",\"#00ff00\",\"#00ff00\",\"#00ff00\",\"#00ff00\",\"#00ff00\",\"#00ff00\",\"#00ff00\",\"#00ff00\",\"#00ff00\",\"#00ff00\",\"#00ff00\",\"#00ff00\",\"#00ff00\",\"#00ff00\",\"#00ff00\",\"#00ff00\",\"#00ff00\",\"#00ff00\",\"#00ff00\",\"#00ff00\",\"#00ff00\",\"#00ff00\",\"#00ff00\",\"#00ff00\",\"#00ff00\",\"#00ff00\",\"#00ff00\",\"#00ff00\",\"#00ff00\",\"#00ff00\",\"#00ff00\",\"#00ff00\",\"#00ff00\",\"#00ff00\",\"#00ff00\",\"#00ff00\",\"#00ff00\",\"#00ff00\",\"#00ff00\",\"#00ff00\",\"#00ff00\",\"#00ff00\",\"#00ff00\",\"#00ff00\",\"#00ff00\",\"#00ff00\",\"#00ff00\",\"#00ff00\",\"#00ff00\",\"#00ff00\",\"#00ff00\",\"#00ff00\",\"#00ff00\",\"#00ff00\",\"#00ff00\",\"#00ff00\",\"#00ff00\",\"#00ff00\",\"#00ff00\",\"#00ff00\",\"#00ff00\",\"#00ff00\",\"#00ff00\",\"#00ff00\",\"#00ff00\",\"#00ff00\",\"#00ff00\",\"#00ff00\",\"#00ff00\",\"#00ff00\",\"#00ff00\",\"#00ff00\",\"#00ff00\",\"#00ff00\",\"#00ff00\",\"#00ff00\",\"#00ff00\",\"#00ff00\",\"#00ff00\",\"#00ff00\",\"#00ff00\",\"#00ff00\",\"#00ff00\",\"#00ff00\",\"#00ff00\",\"#00ff00\",\"#00ff00\",\"#00ff00\",\"#00ff00\",\"#00ff00\",\"#00ff00\",\"#00ff00\",\"#00ff00\",\"#00ff00\",\"#00ff00\",\"#00ff00\",\"#00ff00\",\"#00ff00\",\"#00ff00\",\"#00ff00\",\"#00ff00\",\"#00ff00\",\"#00ff00\",\"#00ff00\",\"#00ff00\",\"#00ff00\",\"#00ff00\",\"#00ff00\",\"#00ff00\",\"#00ff00\",\"#00ff00\",\"#00ff00\",\"#00ff00\",\"#00ff00\",\"#00ff00\",\"#00ff00\",\"#00ff00\",\"#00ff00\",\"#00ff00\",\"#00ff00\",\"#00ff00\",\"#00ff00\",\"#00ff00\",\"#00ff00\",\"#00ff00\",\"#00ff00\",\"#00ff00\",\"#00ff00\",\"#00ff00\",\"#00ff00\",\"#00ff00\",\"#00ff00\",\"#00ff00\",\"#00ff00\",\"#00ff00\",\"#00ff00\",\"#00ff00\",\"#00ff00\",\"#00ff00\",\"#00ff00\",\"#00ff00\",\"#00ff00\",\"#00ff00\",\"#00ff00\",\"#00ff00\",\"#00ff00\",\"#00ff00\",\"#00ff00\",\"#00ff00\",\"#00ff00\",\"#00ff00\",\"#00ff00\",\"#00ff00\",\"#00ff00\",\"#00ff00\",\"#00ff00\",\"#00ff00\",\"#00ff00\",\"#00ff00\",\"#00ff00\",\"#00ff00\",\"#00ff00\",\"#00ff00\",\"#00ff00\",\"#00ff00\",\"#00ff00\",\"#00ff00\",\"#00ff00\",\"#00ff00\",\"#00ff00\",\"#00ff00\",\"#00ff00\",\"#00ff00\",\"#00ff00\",\"#00ff00\",\"#00ff00\",\"#00ff00\",\"#00ff00\",\"#00ff00\",\"#00ff00\",\"#00ff00\",\"#00ff00\",\"#00ff00\",\"#00ff00\",\"#00ff00\",\"#00ff00\",\"#00ff00\",\"#00ff00\",\"#00ff00\",\"#00ff00\",\"#00ff00\",\"#00ff00\",\"#00ff00\",\"#00ff00\",\"#00ff00\",\"#00ff00\",\"#00ff00\",\"#00ff00\",\"#00ff00\",\"#00ff00\",\"#00ff00\",\"#00ff00\",\"#00ff00\",\"#00ff00\",\"#00ff00\",\"#00ff00\",\"#00ff00\",\"#00ff00\",\"#00ff00\",\"#00ff00\",\"#00ff00\",\"#00ff00\",\"#00ff00\",\"#00ff00\",\"#00ff00\",\"#00ff00\",\"#00ff00\",\"#00ff00\",\"#00ff00\",\"#00ff00\",\"#00ff00\",\"#00ff00\",\"#00ff00\",\"#00ff00\",\"#00ff00\",\"#00ff00\",\"#00ff00\",\"#00ff00\",\"#00ff00\",\"#00ff00\",\"#00ff00\",\"#00ff00\",\"#00ff00\",\"#00ff00\",\"#00ff00\",\"#00ff00\",\"#00ff00\",\"#00ff00\",\"#00ff00\",\"#00ff00\",\"#00ff00\",\"#00ff00\",\"#00ff00\",\"#00ff00\",\"#00ff00\",\"#00ff00\",\"#00ff00\",\"#00ff00\",\"#00ff00\",\"#00ff00\",\"#00ff00\",\"#00ff00\",\"#00ff00\",\"#00ff00\",\"#00ff00\",\"#00ff00\",\"#00ff00\",\"#00ff00\",\"#00ff00\",\"#00ff00\",\"#00ff00\",\"#00ff00\",\"#00ff00\",\"#00ff00\",\"#00ff00\",\"#00ff00\",\"#00ff00\",\"#00ff00\",\"#00ff00\",\"#00ff00\",\"#00ff00\",\"#00ff00\",\"#00ff00\",\"#00ff00\",\"#00ff00\",\"#00ff00\",\"#00ff00\",\"#00ff00\",\"#00ff00\",\"#00ff00\",\"#00ff00\",\"#00ff00\",\"#00ff00\",\"#00ff00\",\"#00ff00\",\"#00ff00\",\"#00ff00\",\"#00ff00\",\"#00ff00\",\"#00ff00\",\"#00ff00\",\"#00ff00\",\"#00ff00\",\"#00ff00\",\"#00ff00\",\"#00ff00\",\"#00ff00\",\"#00ff00\",\"#00ff00\",\"#00ff00\",\"#00ff00\",\"#00ff00\",\"#00ff00\",\"#00ff00\",\"#00ff00\",\"#00ff00\",\"#00ff00\",\"#00ff00\",\"#00ff00\",\"#00ff00\",\"#00ff00\",\"#00ff00\",\"#00ff00\",\"#00ff00\",\"#00ff00\",\"#00ff00\",\"#00ff00\",\"#00ff00\",\"#00ff00\",\"#00ff00\",\"#00ff00\",\"#00ff00\",\"#00ff00\",\"#00ff00\",\"#00ff00\",\"#00ff00\",\"#00ff00\",\"#00ff00\",\"#00ff00\",\"#00ff00\",\"#00ff00\",\"#00ff00\",\"#00ff00\",\"#000000\",\"#000000\",\"#000000\",\"#000000\",\"#000000\",\"#000000\",\"#000000\",\"#000000\",\"#000000\",\"#000000\",\"#000000\",\"#000000\",\"#000000\",\"#000000\",\"#000000\",\"#000000\",\"#000000\",\"#000000\",\"#000000\",\"#000000\",\"#000000\",\"#000000\",\"#000000\",\"#000000\",\"#000000\",\"#000000\",\"#000000\",\"#000000\",\"#000000\",\"#000000\",\"#000000\",\"#000000\",\"#000000\",\"#000000\",\"#000000\",\"#000000\",\"#000000\",\"#000000\",\"#000000\",\"#000000\",\"#000000\",\"#000000\",\"#000000\",\"#000000\",\"#000000\",\"#000000\",\"#000000\",\"#000000\",\"#000000\",\"#000000\",\"#000000\",\"#000000\",\"#000000\",\"#000000\",\"#000000\",\"#000000\",\"#000000\",\"#000000\",\"#000000\",\"#000000\",\"#000000\",\"#000000\",\"#000000\",\"#000000\",\"#000000\",\"#000000\",\"#000000\",\"#000000\",\"#000000\",\"#000000\",\"#000000\",\"#000000\",\"#000000\",\"#000000\",\"#000000\",\"#000000\",\"#000000\",\"#000000\",\"#000000\",\"#000000\",\"#000000\",\"#000000\",\"#000000\",\"#000000\",\"#000000\",\"#000000\",\"#000000\",\"#000000\",\"#000000\",\"#000000\",\"#000000\",\"#000000\",\"#000000\",\"#000000\",\"#000000\",\"#000000\",\"#000000\",\"#000000\",\"#000000\",\"#000000\",\"#000000\",\"#000000\",\"#000000\",\"#000000\",\"#000000\",\"#000000\",\"#000000\",\"#000000\",\"#000000\",\"#000000\",\"#000000\",\"#000000\",\"#000000\",\"#000000\",\"#000000\",\"#000000\",\"#000000\",\"#000000\",\"#000000\",\"#000000\",\"#000000\",\"#000000\",\"#000000\",\"#000000\",\"#000000\",\"#000000\",\"#000000\",\"#000000\",\"#000000\",\"#000000\",\"#000000\",\"#000000\",\"#000000\",\"#000000\",\"#000000\",\"#000000\",\"#000000\",\"#000000\",\"#000000\",\"#000000\",\"#000000\",\"#000000\",\"#000000\",\"#000000\",\"#000000\",\"#000000\",\"#000000\",\"#000000\",\"#000000\",\"#000000\",\"#000000\",\"#000000\",\"#000000\",\"#000000\",\"#000000\",\"#000000\",\"#000000\",\"#000000\",\"#000000\",\"#000000\",\"#000000\",\"#000000\",\"#000000\",\"#000000\",\"#000000\",\"#000000\",\"#000000\",\"#000000\",\"#000000\",\"#000000\",\"#000000\",\"#000000\",\"#000000\",\"#000000\",\"#000000\",\"#000000\",\"#000000\",\"#000000\",\"#000000\",\"#000000\",\"#000000\",\"#000000\",\"#000000\",\"#000000\",\"#000000\",\"#000000\",\"#000000\",\"#000000\",\"#000000\",\"#000000\",\"#000000\",\"#000000\",\"#000000\",\"#000000\",\"#000000\",\"#000000\",\"#000000\",\"#000000\",\"#000000\",\"#000000\",\"#000000\",\"#000000\",\"#000000\",\"#000000\",\"#000000\",\"#000000\",\"#000000\",\"#000000\",\"#000000\",\"#000000\",\"#000000\",\"#000000\",\"#000000\",\"#000000\",\"#000000\",\"#000000\",\"#000000\",\"#000000\",\"#000000\",\"#000000\",\"#000000\",\"#000000\",\"#000000\",\"#000000\",\"#000000\",\"#000000\",\"#000000\",\"#000000\",\"#000000\",\"#000000\",\"#000000\",\"#000000\",\"#000000\",\"#000000\",\"#000000\",\"#000000\",\"#000000\",\"#000000\",\"#000000\",\"#000000\",\"#000000\",\"#000000\",\"#000000\",\"#000000\",\"#000000\",\"#000000\",\"#000000\",\"#000000\",\"#000000\",\"#000000\",\"#000000\",\"#000000\",\"#000000\",\"#000000\",\"#000000\",\"#000000\",\"#000000\",\"#000000\",\"#000000\",\"#000000\",\"#000000\",\"#000000\",\"#000000\",\"#000000\",\"#000000\",\"#000000\",\"#000000\",\"#000000\",\"#000000\",\"#000000\",\"#000000\",\"#000000\",\"#000000\",\"#000000\",\"#000000\",\"#000000\",\"#000000\",\"#000000\",\"#000000\",\"#000000\",\"#000000\",\"#000000\",\"#000000\",\"#000000\",\"#000000\",\"#000000\",\"#000000\",\"#000000\",\"#000000\",\"#000000\",\"#000000\",\"#000000\",\"#000000\",\"#000000\",\"#000000\",\"#000000\",\"#000000\",\"#000000\",\"#000000\",\"#000000\",\"#000000\",\"#000000\",\"#000000\",\"#000000\",\"#000000\",\"#000000\",\"#000000\",\"#000000\",\"#000000\",\"#000000\",\"#000000\",\"#000000\",\"#000000\",\"#000000\",\"#000000\",\"#000000\",\"#000000\",\"#000000\",\"#000000\",\"#000000\",\"#000000\",\"#000000\",\"#000000\",\"#000000\",\"#000000\",\"#000000\",\"#000000\",\"#000000\",\"#000000\",\"#000000\",\"#000000\",\"#000000\",\"#000000\",\"#000000\",\"#000000\",\"#000000\",\"#000000\",\"#000000\",\"#000000\",\"#000000\",\"#000000\",\"#000000\",\"#000000\",\"#000000\",\"#000000\",\"#000000\",\"#000000\",\"#000000\",\"#000000\",\"#000000\",\"#000000\",\"#000000\",\"#000000\",\"#000000\",\"#000000\",\"#000000\",\"#000000\",\"#000000\",\"#000000\",\"#000000\",\"#000000\",\"#000000\",\"#000000\",\"#000000\",\"#000000\",\"#000000\",\"#000000\",\"#000000\",\"#000000\",\"#000000\",\"#000000\",\"#000000\",\"#000000\",\"#000000\",\"#000000\",\"#000000\",\"#000000\",\"#000000\",\"#000000\",\"#000000\",\"#000000\",\"#000000\",\"#000000\",\"#000000\",\"#000000\",\"#000000\",\"#000000\",\"#000000\",\"#000000\",\"#000000\",\"#000000\",\"#000000\",\"#000000\",\"#000000\",\"#000000\",\"#000000\",\"#000000\",\"#000000\",\"#000000\",\"#000000\",\"#000000\",\"#000000\",\"#000000\",\"#000000\",\"#000000\",\"#000000\",\"#000000\",\"#000000\",\"#000000\",\"#000000\",\"#000000\",\"#000000\",\"#000000\",\"#000000\",\"#000000\",\"#000000\",\"#000000\",\"#000000\",\"#000000\",\"#000000\",\"#000000\",\"#000000\",\"#000000\",\"#000000\",\"#000000\",\"#000000\",\"#000000\",\"#000000\",\"#000000\",\"#000000\",\"#000000\",\"#000000\",\"#000000\",\"#000000\",\"#000000\",\"#000000\",\"#000000\",\"#000000\",\"#000000\",\"#000000\",\"#000000\",\"#000000\",\"#000000\",\"#000000\",\"#000000\",\"#000000\",\"#000000\",\"#000000\",\"#000000\",\"#000000\",\"#000000\",\"#000000\",\"#000000\",\"#000000\",\"#000000\",\"#000000\",\"#000000\",\"#000000\",\"#000000\",\"#000000\",\"#000000\",\"#000000\",\"#000000\",\"#000000\",\"#000000\",\"#000000\",\"#000000\",\"#000000\",\"#000000\",\"#000000\",\"#000000\",\"#000000\",\"#000000\",\"#000000\",\"#000000\",\"#000000\",\"#000000\",\"#000000\",\"#000000\",\"#000000\",\"#000000\",\"#000000\",\"#000000\",\"#000000\",\"#000000\",\"#000000\",\"#000000\",\"#000000\",\"#000000\",\"#000000\",\"#000000\",\"#000000\",\"#000000\",\"#000000\",\"#000000\",\"#000000\",\"#000000\",\"#000000\",\"#000000\",\"#000000\"],\"names\":[\"acupuncture\",\"addicting\",\"scrumptious\",\"cutest\",\"unassuming\",\"mmmmm\",\"gem\",\"trails\",\"meticulous\",\"nom\",\"perfection\",\"devoured\",\"unbeatable\",\"expertly\",\"growler\",\"deliciously\",\"addictive\",\"coolest\",\"pinball\",\"unpretentious\",\"superb\",\"faves\",\"deliciousi\",\"pleasantly\",\"rhubarb\",\"addicted\",\"wonderfully\",\"amazingthe\",\"delectable\",\"exceeded\",\"delightfully\",\"decadent\",\"awesomeness\",\"amazingi\",\"phenomenal\",\"deliciousness\",\"divine\",\"incredible\",\"listens\",\"delish\",\"dedication\",\"familyowned\",\"drawback\",\"jeden\",\"impeccable\",\"coma\",\"delicious\",\"elk\",\"refreshing\",\"heaven\",\"painless\",\"yummy\",\"sweetest\",\"complemented\",\"deliciousthe\",\"pasties\",\"exquisite\",\"yum\",\"disappoint\",\"heavenly\",\"perfect\",\"enhanced\",\"luscious\",\"goodies\",\"knowledgeable\",\"magnificent\",\"downside\",\"compliments\",\"informative\",\"fantastic\",\"passionate\",\"produits\",\"knowledgable\",\"melts\",\"amazing\",\"favorites\",\"guava\",\"delighted\",\"sublime\",\"laidback\",\"intimate\",\"savory\",\"eclectic\",\"drool\",\"affordable\",\"relaxed\",\"topnotch\",\"notch\",\"mmm\",\"favs\",\"outstanding\",\"creaminess\",\"paired\",\"perfectionist\",\"secrets\",\"excellent\",\"talented\",\"drooling\",\"terrific\",\"awesome\",\"trail\",\"beautifully\",\"hearty\",\"flawless\",\"cozy\",\"obsessed\",\"surpassed\",\"mouthwatering\",\"favourites\",\"pairings\",\"crossfit\",\"wonderful\",\"transformed\",\"complimented\",\"mascarpone\",\"masterpiece\",\"concoctions\",\"byob\",\"textures\",\"disappoints\",\"nutty\",\"bryan\",\"uniquely\",\"apricot\",\"fab\",\"perfectly\",\"diverse\",\"serene\",\"immaculate\",\"delight\",\"succulent\",\"adventurous\",\"unique\",\"customize\",\"amaze\",\"delightful\",\"stumbled\",\"arepas\",\"highly\",\"homey\",\"bliss\",\"nestled\",\"cosy\",\"punctual\",\"awsome\",\"fav\",\"compares\",\"asset\",\"rivals\",\"lowkey\",\"combinations\",\"torte\",\"savoury\",\"ease\",\"bomb\",\"favorite\",\"marvelous\",\"toasty\",\"comforting\",\"fabulous\",\"adorable\",\"approachable\",\"favourite\",\"fave\",\"compote\",\"guu\",\"lecker\",\"buttery\",\"brilliant\",\"restored\",\"mmmm\",\"personalized\",\"exemplary\",\"calming\",\"explosion\",\"warmly\",\"pilates\",\"stunning\",\"choix\",\"supportive\",\"richness\",\"seamless\",\"aromatic\",\"rarity\",\"defiantly\",\"macadamia\",\"thyme\",\"edinburgh\",\"peaceful\",\"loved\",\"indecisive\",\"kiwi\",\"breathtaking\",\"reasonably\",\"burrata\",\"botanical\",\"spacious\",\"quaint\",\"randy\",\"brews\",\"resist\",\"carnivore\",\"compassionate\",\"frankie\",\"secluded\",\"wealth\",\"energetic\",\"thoughtful\",\"beginner\",\"shaded\",\"balanced\",\"bonus\",\"lucked\",\"juste\",\"upbeat\",\"bouche\",\"personable\",\"gems\",\"elegant\",\"gorgeous\",\"endroit\",\"magical\",\"montral\",\"jeremy\",\"adobada\",\"fascinating\",\"juicy\",\"creative\",\"homemade\",\"stout\",\"toffee\",\"infused\",\"intimidated\",\"inventive\",\"tastefully\",\"jy\",\"wholesome\",\"plusieurs\",\"indulged\",\"soju\",\"gifted\",\"unwind\",\"patisserie\",\"hooked\",\"fluffy\",\"amazingly\",\"pleasure\",\"lovers\",\"freshest\",\"quail\",\"savor\",\"charlie\",\"fragrant\",\"treasures\",\"ian\",\"thorough\",\"sorbet\",\"breads\",\"handmade\",\"sweetness\",\"toujours\",\"tuscan\",\"almonds\",\"porchetta\",\"paths\",\"caramelized\",\"galleries\",\"roomy\",\"classics\",\"spotless\",\"tastings\",\"creations\",\"sexy\",\"ginormous\",\"guides\",\"hiking\",\"contemporary\",\"soothing\",\"hesitate\",\"efficient\",\"airy\",\"romantic\",\"kiddos\",\"grassy\",\"crafted\",\"candies\",\"exceptional\",\"addiction\",\"paninis\",\"bustle\",\"smiley\",\"creation\",\"indulge\",\"coco\",\"woohoo\",\"sweets\",\"love\",\"reasonable\",\"assortment\",\"heartbeat\",\"hesitation\",\"complement\",\"sweeter\",\"andy\",\"burgh\",\"winner\",\"tucked\",\"iconic\",\"gruyere\",\"beatles\",\"nicest\",\"casual\",\"skeptical\",\"exceeds\",\"durian\",\"moist\",\"goals\",\"trifecta\",\"incline\",\"nailed\",\"array\",\"dreaming\",\"killer\",\"saki\",\"accompaniment\",\"flavorful\",\"adore\",\"overlooks\",\"delights\",\"blends\",\"tortas\",\"graham\",\"mecca\",\"gorgonzola\",\"daikon\",\"recommendations\",\"unforgettable\",\"happier\",\"barre\",\"earthy\",\"workouts\",\"raspberries\",\"expanded\",\"dope\",\"comfy\",\"baba\",\"definite\",\"friendliest\",\"scottish\",\"shines\",\"crisps\",\"conscientious\",\"cheerful\",\"enjoyed\",\"chandeliers\",\"rich\",\"luv\",\"scones\",\"great\",\"truffles\",\"glam\",\"craft\",\"loves\",\"spicier\",\"chill\",\"dreams\",\"gentle\",\"goto\",\"accommodating\",\"colorful\",\"casey\",\"skyline\",\"maine\",\"housed\",\"wonderland\",\"blessed\",\"definetly\",\"gardens\",\"dream\",\"courteous\",\"cristo\",\"pistachios\",\"gabriel\",\"bravo\",\"twists\",\"furry\",\"bonne\",\"helpful\",\"vegan\",\"hoover\",\"wagyu\",\"cycling\",\"aussi\",\"brle\",\"historic\",\"breeze\",\"scenery\",\"fritters\",\"intrusive\",\"stephen\",\"genuine\",\"silky\",\"skilled\",\"northeast\",\"baguettes\",\"prompt\",\"confit\",\"ales\",\"friendly\",\"mountains\",\"creamy\",\"additions\",\"testament\",\"hazelnut\",\"tender\",\"hike\",\"tangy\",\"comfortable\",\"appreciative\",\"vindaloo\",\"def\",\"devils\",\"beautiful\",\"stylish\",\"earls\",\"brasserie\",\"yuzu\",\"seasonal\",\"watering\",\"pleased\",\"dulce\",\"explore\",\"croissants\",\"flavourful\",\"glad\",\"chocolates\",\"hannah\",\"medallions\",\"rebecca\",\"cheesecakes\",\"distillery\",\"welcoming\",\"crme\",\"innovative\",\"blossom\",\"tastiest\",\"foie\",\"pistachio\",\"beaten\",\"secret\",\"bustling\",\"turkish\",\"charts\",\"guided\",\"apprehensive\",\"picnic\",\"blessing\",\"handsome\",\"elote\",\"threading\",\"bursting\",\"duo\",\"perfected\",\"tremendous\",\"flexible\",\"performances\",\"views\",\"museums\",\"attentive\",\"intimidating\",\"tartare\",\"refreshed\",\"croque\",\"spiciness\",\"absinthe\",\"belle\",\"candied\",\"pate\",\"rocked\",\"amuse\",\"pam\",\"loving\",\"featuring\",\"utmost\",\"escargot\",\"butternut\",\"stroll\",\"variety\",\"styles\",\"cheers\",\"noda\",\"crudo\",\"artistic\",\"leek\",\"lunchdinner\",\"tako\",\"praises\",\"bosa\",\"girly\",\"bellini\",\"humiliated\",\"disregarded\",\"harassment\",\"discriminated\",\"unprofessionalism\",\"aggravation\",\"confrontational\",\"thief\",\"uncalled\",\"disrespected\",\"disgrace\",\"unethical\",\"liars\",\"worthless\",\"unprofessional\",\"rancid\",\"centurylink\",\"rudest\",\"violations\",\"incompetence\",\"scammers\",\"compensation\",\"inept\",\"feces\",\"appalling\",\"incompetent\",\"reimbursement\",\"unresponsive\",\"disrespectful\",\"ignores\",\"accusing\",\"disrespect\",\"unacceptable\",\"abusive\",\"insulting\",\"enemy\",\"blaming\",\"forwarded\",\"argumentative\",\"refunding\",\"uncaring\",\"livid\",\"unhelpful\",\"unattentive\",\"disputing\",\"vile\",\"audacity\",\"filth\",\"dissatisfaction\",\"scam\",\"blatant\",\"threatened\",\"cockroach\",\"worst\",\"fraudulent\",\"accused\",\"refund\",\"apology\",\"rudely\",\"harassing\",\"slowest\",\"inexcusable\",\"unwilling\",\"lied\",\"careless\",\"poisoning\",\"uneducated\",\"unevenly\",\"disgusted\",\"insult\",\"crooks\",\"discrimination\",\"appalled\",\"acknowledgement\",\"acknowledgment\",\"defensive\",\"liar\",\"overcharged\",\"expressing\",\"disgusting\",\"argued\",\"sarcastically\",\"unseasoned\",\"theft\",\"misfortune\",\"redeeming\",\"pathetic\",\"refused\",\"mumbled\",\"dispute\",\"dishonest\",\"tasteless\",\"laughable\",\"belligerent\",\"dismissive\",\"cancelling\",\"modem\",\"harassed\",\"filthy\",\"supervisor\",\"nonchalant\",\"deplorable\",\"horrible\",\"reeked\",\"furious\",\"tablespoon\",\"hostile\",\"incapable\",\"blankly\",\"undrinkable\",\"acetone\",\"fraud\",\"mildew\",\"yuck\",\"arguing\",\"thieves\",\"decency\",\"rude\",\"snide\",\"gossiping\",\"voicemails\",\"yelled\",\"bait\",\"lawsuit\",\"abysmal\",\"shrugged\",\"shorted\",\"negligence\",\"confronted\",\"poorly\",\"threatening\",\"refusing\",\"inedible\",\"refunds\",\"demanded\",\"bureau\",\"flavorless\",\"visibly\",\"terrible\",\"blamed\",\"unsanitary\",\"demeaning\",\"lousy\",\"moron\",\"mislead\",\"runaround\",\"blatantly\",\"denied\",\"scammed\",\"congealed\",\"downhill\",\"disconnected\",\"scum\",\"payless\",\"unfriendly\",\"sewage\",\"moldy\",\"diarrhea\",\"awful\",\"unwelcoming\",\"racist\",\"rudeness\",\"saddest\",\"horrendous\",\"insulted\",\"swearing\",\"uninterested\",\"disgustingly\",\"disinterested\",\"behaviour\",\"contaminated\",\"disgust\",\"ignorant\",\"roaches\",\"reimburse\",\"inconsiderate\",\"violently\",\"dispatch\",\"agitated\",\"cockroaches\",\"authorization\",\"unapologetic\",\"dumbfounded\",\"unappealing\",\"wtf\",\"smh\",\"horrid\",\"faxed\",\"eff\",\"reciept\",\"displeasure\",\"verbally\",\"refunded\",\"voicemail\",\"condescending\",\"roach\",\"robbery\",\"impolite\",\"sloppily\",\"stormed\",\"apologies\",\"vomiting\",\"microwaved\",\"bbb\",\"aweful\",\"immature\",\"disorganized\",\"pissed\",\"cancel\",\"issued\",\"flirting\",\"threaten\",\"inaccurate\",\"sarcasm\",\"upsetting\",\"unorganized\",\"untrained\",\"inattentive\",\"atrocious\",\"ripoff\",\"refuses\",\"indicating\",\"acted\",\"slop\",\"asshole\",\"robbed\",\"cancelled\",\"stale\",\"ignored\",\"waste\",\"passive\",\"apologizes\",\"filed\",\"billed\",\"shameful\",\"defective\",\"rotten\",\"improperly\",\"excuses\",\"unclean\",\"unimpressed\",\"ignoring\",\"poor\",\"reply\",\"bully\",\"snippy\",\"replied\",\"urine\",\"documentation\",\"crooked\",\"worse\",\"acknowledging\",\"caked\",\"lukewarm\",\"deceptive\",\"substandard\",\"unanswered\",\"leaked\",\"arrogant\",\"meanwhile\",\"possession\",\"rotting\",\"harass\",\"horrific\",\"dissapointing\",\"supervisors\",\"reporting\",\"response\",\"existent\",\"apologizing\",\"ticked\",\"plague\",\"responsibility\",\"mediocre\",\"unappetizing\",\"acknowledge\",\"notify\",\"ontrac\",\"losses\",\"morons\",\"argument\",\"mysteriously\",\"yells\",\"ruined\",\"proceeded\",\"canceling\",\"horribly\",\"unreliable\",\"rip\",\"misunderstood\",\"zero\",\"garbage\",\"nauseous\",\"acknowledged\",\"accountability\",\"displeased\",\"agreement\",\"irritated\",\"apologize\",\"undercooked\",\"apathetic\",\"clueless\",\"expired\",\"wasted\",\"dirtiest\",\"questioned\",\"waitedand\",\"measly\",\"notified\",\"replies\",\"idiots\",\"renter\",\"arrogance\",\"nasty\",\"overbooked\",\"bogus\",\"embarrassment\",\"stating\",\"consumers\",\"horrified\",\"piss\",\"payed\",\"inconveniencing\",\"informs\",\"complained\",\"flagged\",\"monopoly\",\"recieve\",\"behavior\",\"principle\",\"mold\",\"flavourless\",\"claiming\",\"false\",\"receipt\",\"hostage\",\"disaster\",\"billing\",\"shield\",\"incidents\",\"revenue\",\"reiterated\",\"smug\",\"incomplete\",\"violation\",\"shoddy\",\"grossly\",\"credited\",\"owed\",\"laziness\",\"chalked\",\"dumped\",\"gross\",\"honoring\",\"yelling\",\"interrupt\",\"implied\",\"deleted\",\"confirming\",\"uninspired\",\"remorse\",\"snarky\",\"inefficient\",\"marginal\",\"childish\",\"rescheduled\",\"meager\",\"grossed\",\"charged\",\"cancellation\",\"surly\",\"stares\",\"attempted\",\"wth\",\"useless\",\"disturbing\",\"blech\",\"thawed\",\"subpar\",\"argue\",\"screwed\",\"canceled\",\"medication\",\"cox\",\"rung\",\"interrupting\",\"receipts\",\"letter\",\"uneven\",\"frustration\",\"repeatedly\",\"shitty\",\"unhappy\",\"forgiving\",\"inappropriate\",\"notification\",\"lease\",\"absurd\",\"upset\",\"expire\",\"deposits\",\"operator\",\"disappointing\",\"infested\",\"underwhelmed\",\"interrupted\",\"nausea\",\"bouncer\",\"dissatisfied\",\"proceeds\",\"incorrectly\",\"stared\",\"unremarkable\",\"excuse\",\"edible\",\"rubbery\",\"stolen\",\"excused\",\"deteriorated\",\"misinformed\",\"compensate\",\"puddle\",\"contract\",\"irate\",\"honour\",\"barked\",\"inconvenienced\",\"illegal\",\"inexperienced\",\"unwelcome\",\"insisting\",\"alerted\",\"angry\",\"damages\",\"strep\",\"misery\",\"discrepancy\",\"overrated\",\"submitted\",\"reschedule\",\"explicitly\",\"profanity\",\"unsatisfactory\",\"investigation\",\"reluctantly\",\"cursing\",\"stinks\",\"incorrect\",\"policy\",\"emailing\",\"avail\",\"rotors\",\"ruining\",\"annoyed\",\"tells\",\"gristle\",\"moral\",\"disabled\",\"indifferent\",\"repeated\",\"confirmation\",\"limp\",\"supposedly\",\"bland\",\"dispatcher\",\"sympathy\",\"representatives\",\"reimbursed\",\"deductible\",\"anger\",\"unimpressive\",\"sorely\",\"pos\",\"frustrated\",\"deaf\",\"permission\",\"smeared\",\"consent\",\"wiped\",\"inform\",\"sucks\",\"abruptly\",\"blah\",\"slimy\",\"letdown\",\"cheated\",\"phoned\",\"wasting\",\"deposit\",\"severely\",\"file\",\"delete\",\"arbys\",\"blaring\",\"errors\",\"miserable\",\"disappeared\",\"baffled\",\"uneaten\",\"faulty\"],\"x1\":{\"__ndarray__\":\"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\",\"dtype\":\"float32\",\"shape\":[1000]},\"x2\":{\"__ndarray__\":\"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\",\"dtype\":\"float32\",\"shape\":[1000]}},\"selected\":{\"id\":\"adbdd36f-55f9-45ac-982b-8ff785bf40cc\",\"type\":\"Selection\"},\"selection_policy\":{\"id\":\"a8968ab9-8222-44c0-bb37-8d5060a04878\",\"type\":\"UnionRenderers\"}},\"id\":\"82030d2f-4481-4e75-8339-38dda894dc9a\",\"type\":\"ColumnDataSource\"},{\"attributes\":{},\"id\":\"aee8037d-b472-43da-b136-685d073a2b9e\",\"type\":\"ResetTool\"},{\"attributes\":{\"source\":{\"id\":\"82030d2f-4481-4e75-8339-38dda894dc9a\",\"type\":\"ColumnDataSource\"}},\"id\":\"6b571acc-d894-4a8a-ad7e-8ffcf701c89f\",\"type\":\"CDSView\"},{\"attributes\":{},\"id\":\"d8175196-dff0-4c91-84ad-e2c494ba9203\",\"type\":\"SaveTool\"},{\"attributes\":{\"data_source\":{\"id\":\"82030d2f-4481-4e75-8339-38dda894dc9a\",\"type\":\"ColumnDataSource\"},\"glyph\":{\"id\":\"6dd93e57-b805-4ede-92f4-e0eb6c39cc5d\",\"type\":\"Circle\"},\"hover_glyph\":null,\"muted_glyph\":null,\"nonselection_glyph\":{\"id\":\"7e81a793-1880-42af-88ef-117d0b6b21f8\",\"type\":\"Circle\"},\"selection_glyph\":null,\"view\":{\"id\":\"6b571acc-d894-4a8a-ad7e-8ffcf701c89f\",\"type\":\"CDSView\"}},\"id\":\"280febf7-9c81-4c92-ae54-976b3bb345af\",\"type\":\"GlyphRenderer\"},{\"attributes\":{\"callback\":null},\"id\":\"be6497b5-3053-406d-a3c4-274184948486\",\"type\":\"DataRange1d\"},{\"attributes\":{},\"id\":\"71fdeedd-9258-4f49-bae3-d890299cefcc\",\"type\":\"LinearScale\"},{\"attributes\":{\"plot\":null,\"text\":\"vector T-SNE for most polarized words\"},\"id\":\"5e6966e9-7046-45a3-b06e-1a206245ffbe\",\"type\":\"Title\"},{\"attributes\":{\"plot\":{\"id\":\"41d76535-c447-4276-95b1-217d36fa9d72\",\"subtype\":\"Figure\",\"type\":\"Plot\"},\"source\":{\"id\":\"82030d2f-4481-4e75-8339-38dda894dc9a\",\"type\":\"ColumnDataSource\"},\"text\":{\"field\":\"names\"},\"text_align\":\"center\",\"text_color\":{\"value\":\"#555555\"},\"text_font_size\":{\"value\":\"8pt\"},\"x\":{\"field\":\"x1\"},\"y\":{\"field\":\"x2\"},\"y_offset\":{\"value\":6}},\"id\":\"8702dcb3-57d6-4ed2-84c9-cde216188306\",\"type\":\"LabelSet\"},{\"attributes\":{\"callback\":null},\"id\":\"847842b2-1e6b-434e-b74b-e05323fef86c\",\"type\":\"DataRange1d\"},{\"attributes\":{\"active_drag\":\"auto\",\"active_inspect\":\"auto\",\"active_scroll\":\"auto\",\"active_tap\":\"auto\",\"tools\":[{\"id\":\"10075066-ac4d-438a-ac71-47a5c0a97206\",\"type\":\"PanTool\"},{\"id\":\"e63e4e6d-a01b-4d9a-8ee4-cfc34271541c\",\"type\":\"WheelZoomTool\"},{\"id\":\"aee8037d-b472-43da-b136-685d073a2b9e\",\"type\":\"ResetTool\"},{\"id\":\"d8175196-dff0-4c91-84ad-e2c494ba9203\",\"type\":\"SaveTool\"}]},\"id\":\"4e4cb40f-7db2-4744-ab27-14e8a417c15c\",\"type\":\"Toolbar\"},{\"attributes\":{},\"id\":\"46aac8ef-a593-471c-84c5-6556c524d6ed\",\"type\":\"BasicTickFormatter\"},{\"attributes\":{},\"id\":\"1eab938c-bd06-436f-b65b-850f0f0b939e\",\"type\":\"LinearScale\"},{\"attributes\":{\"plot\":{\"id\":\"41d76535-c447-4276-95b1-217d36fa9d72\",\"subtype\":\"Figure\",\"type\":\"Plot\"},\"ticker\":{\"id\":\"cf926537-00cf-4551-a72c-c309a45d43fa\",\"type\":\"BasicTicker\"}},\"id\":\"a10619ec-dfae-4ff2-9934-acd1abb54c97\",\"type\":\"Grid\"},{\"attributes\":{\"fill_color\":{\"field\":\"color\"},\"line_color\":{\"value\":\"#1f77b4\"},\"size\":{\"units\":\"screen\",\"value\":8},\"x\":{\"field\":\"x1\"},\"y\":{\"field\":\"x2\"}},\"id\":\"6dd93e57-b805-4ede-92f4-e0eb6c39cc5d\",\"type\":\"Circle\"}],\"root_ids\":[\"41d76535-c447-4276-95b1-217d36fa9d72\"]},\"title\":\"Bokeh Application\",\"version\":\"0.12.16\"}};\n",
       "  var render_items = [{\"docid\":\"e7e3c4cc-3e81-4656-8def-b683db48d142\",\"elementid\":\"3b582636-c0dd-45b6-88f5-82b2b2815b6c\",\"modelid\":\"41d76535-c447-4276-95b1-217d36fa9d72\"}];\n",
       "  root.Bokeh.embed.embed_items_notebook(docs_json, render_items);\n",
       "\n",
       "  }\n",
       "  if (root.Bokeh !== undefined) {\n",
       "    embed_document(root);\n",
       "  } else {\n",
       "    var attempts = 0;\n",
       "    var timer = setInterval(function(root) {\n",
       "      if (root.Bokeh !== undefined) {\n",
       "        embed_document(root);\n",
       "        clearInterval(timer);\n",
       "      }\n",
       "      attempts++;\n",
       "      if (attempts > 100) {\n",
       "        console.log(\"Bokeh: ERROR: Unable to run BokehJS code because BokehJS library is missing\")\n",
       "        clearInterval(timer);\n",
       "      }\n",
       "    }, 10, root)\n",
       "  }\n",
       "})(window);"
      ],
      "application/vnd.bokehjs_exec.v0+json": ""
     },
     "metadata": {
      "application/vnd.bokehjs_exec.v0+json": {
       "id": "41d76535-c447-4276-95b1-217d36fa9d72"
      }
     },
     "output_type": "display_data"
    }
   ],
   "source": [
    "p = figure(tools=\"pan,wheel_zoom,reset,save\",\n",
    "           toolbar_location=\"above\",\n",
    "           title=\"vector T-SNE for most polarized words\")\n",
    "\n",
    "source = ColumnDataSource(data=dict(x1=words_top_ted_tsne[:,0],\n",
    "                                    x2=words_top_ted_tsne[:,1],\n",
    "                                    names=words_to_visualize,\n",
    "                                    color=colors_list))\n",
    "\n",
    "p.scatter(x=\"x1\", y=\"x2\", size=8, source=source, fill_color=\"color\")\n",
    "\n",
    "word_labels = LabelSet(x=\"x1\", y=\"x2\", text=\"names\", y_offset=6,\n",
    "                  text_font_size=\"8pt\", text_color=\"#555555\",\n",
    "                  source=source, text_align='center')\n",
    "p.add_layout(word_labels)\n",
    "\n",
    "show(p)"
   ]
  },
  {
   "cell_type": "code",
   "execution_count": null,
   "metadata": {},
   "outputs": [],
   "source": []
  }
 ],
 "metadata": {
  "kernelspec": {
   "display_name": "Python 3",
   "language": "python",
   "name": "python3"
  },
  "language_info": {
   "codemirror_mode": {
    "name": "ipython",
    "version": 3
   },
   "file_extension": ".py",
   "mimetype": "text/x-python",
   "name": "python",
   "nbconvert_exporter": "python",
   "pygments_lexer": "ipython3",
   "version": "3.6.3"
  }
 },
 "nbformat": 4,
 "nbformat_minor": 2
}
